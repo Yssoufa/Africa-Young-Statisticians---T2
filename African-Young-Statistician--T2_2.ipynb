{
 "cells": [
  {
   "cell_type": "markdown",
   "id": "cd9bf8e7",
   "metadata": {},
   "source": [
    "# Optimising maize crop yields in Sub-Saharan Africa in the context of climate change"
   ]
  },
  {
   "cell_type": "code",
   "execution_count": null,
   "id": "8be55a3c",
   "metadata": {},
   "outputs": [],
   "source": []
  },
  {
   "cell_type": "markdown",
   "id": "58191cbb",
   "metadata": {},
   "source": [
    "<Optimising maize crop yields in Sub-Saharan Africa in the context of climate change>"
   ]
  },
  {
   "cell_type": "markdown",
   "id": "eb6421ce",
   "metadata": {},
   "source": [
    "# Probleme statement "
   ]
  },
  {
   "cell_type": "markdown",
   "id": "e19ff13d",
   "metadata": {},
   "source": [
    "African countries have been suffering from food shortages for decades, and all stakeholders are trying to find a solution to this age-old problem. With climate change, agricultural yields are decreasing significantly. In this project we will try to answer the following question: **\"How can maize yields in sub-Saharan Africa be optimised in the context of climate change?\"** The aim of this project is to improve maize yields in the context of extreme climate change in sub-Saharan Africa. More specifically, it aims to:\n",
    "- Map the climatic environment of sub-Saharan Africa;\n",
    "- Describe maize crop yields by sub-region (Central, West, East Africa, etc.);\n",
    "- Assess the impact of climate change on maize yields;\n",
    "- Predict maize yields as a function of climatic events."
   ]
  },
  {
   "cell_type": "markdown",
   "id": "02d784b2",
   "metadata": {},
   "source": [
    "# Import the packages "
   ]
  },
  {
   "cell_type": "code",
   "execution_count": 487,
   "id": "edbfae20",
   "metadata": {},
   "outputs": [],
   "source": [
    "import warnings\n",
    "from glob import glob\n",
    "import pandas as pd\n",
    "import seaborn as sns\n",
    "from category_encoders import OneHotEncoder\n",
    "from ipywidgets import Dropdown, FloatSlider, IntSlider, interact\n",
    "from sklearn.impute import SimpleImputer\n",
    "from sklearn.linear_model import LinearRegression, Ridge  # noqa F401\n",
    "from sklearn.metrics import mean_absolute_error\n",
    "from sklearn.pipeline import make_pipeline\n",
    "import numpy as np\n",
    "from sklearn.metrics import accuracy_score\n",
    "from sklearn.preprocessing import StandardScaler\n",
    "from sklearn.model_selection import train_test_split\n",
    "import plotly.express as px\n",
    "from category_encoders import OneHotEncoder\n",
    "from sklearn.linear_model import LinearRegression\n",
    "from sklearn.metrics import r2_score\n",
    "import tensorflow as tf\n",
    "from ipywidgets import Dropdown, FloatSlider, IntSlider, interact\n",
    "from sklearn.impute import SimpleImputer\n",
    "from sklearn.linear_model import LinearRegression, Ridge  # noqa F401\n",
    "from sklearn.metrics import mean_absolute_error\n",
    "from sklearn.pipeline import make_pipeline\n",
    "warnings.simplefilter(action=\"ignore\", category=FutureWarning)"
   ]
  },
  {
   "cell_type": "markdown",
   "id": "5c1687b9",
   "metadata": {},
   "source": [
    "# Data Preparation "
   ]
  },
  {
   "cell_type": "markdown",
   "id": "f046919f",
   "metadata": {},
   "source": [
    "### import the data "
   ]
  },
  {
   "cell_type": "markdown",
   "id": "a67c57bc",
   "metadata": {},
   "source": [
    "> We create a function called **clean** to import the data and wrangle the datas "
   ]
  },
  {
   "cell_type": "code",
   "execution_count": 488,
   "id": "b7fc1e5c",
   "metadata": {},
   "outputs": [],
   "source": [
    "def clean(path):\n",
    "    df=pd.read_csv(path)\n",
    "    #Rename the features to ease the analysis\n",
    "    df=df.rename(columns={'Country Code':\"iso3\",\n",
    "       'Agricultural land (% of land area) [AG.LND.AGRI.ZS]':\"feat1\",\n",
    "       'Agricultural land (sq. km) [AG.LND.AGRI.K2]':\"feat2\",\n",
    "       'Arable land (% of land area) [AG.LND.ARBL.ZS]':\"feat3\",\n",
    "       'Arable land (hectares per person) [AG.LND.ARBL.HA.PC]':\"feat4\",\n",
    "       'Population growth (annual %) [SP.POP.GROW]':\"feat5\",\n",
    "       'Population ages 15-64, male (% of male population) [SP.POP.1564.MA.ZS]':\"feat6\",\n",
    "       'Population ages 15-64, female (% of female population) [SP.POP.1564.FE.ZS]':\"feat7\",\n",
    "       'Population ages 15-64 (% of total population) [SP.POP.1564.TO.ZS]':\"feat8\",\n",
    "       'Urban population (% of total population) [SP.URB.TOTL.IN.ZS]':\"feat9\",\n",
    "       'Employment in agriculture (% of total employment) (modeled ILO estimate) [SL.AGR.EMPL.ZS]':\"feat10\",\n",
    "       'Employment in agriculture, female (% of female employment) (modeled ILO estimate) [SL.AGR.EMPL.FE.ZS]':\"feat11\"})\n",
    "    # Drop columns with missing value greater than 50%\n",
    "    for column in df.columns:\n",
    "        if df[column].isnull().sum()>len(df)/2:\n",
    "            df.drop(columns=[column],inplace=True)\n",
    "    #delate features will not be included in our model\n",
    "    df.drop(columns=[\"Time\",\"Country Name\"],inplace=True)\n",
    "    #Replace NA values by the mean\n",
    "    df=df.fillna(df.mean())\n",
    "    #subset and remove outliers from maize yield feature\n",
    "    q1,q9=df['maize'].quantile([0.1,0.9])\n",
    "    mask_maize=df['maize'].between(q1,q9)\n",
    "    df=df[mask_maize]\n",
    "    #Index countrycode\n",
    "    #df=df.set_index('iso3')\n",
    "    return df"
   ]
  },
  {
   "cell_type": "code",
   "execution_count": 489,
   "id": "56ae1ad1",
   "metadata": {},
   "outputs": [],
   "source": [
    "df=clean('Data3.csv')"
   ]
  },
  {
   "cell_type": "markdown",
   "id": "b37c9509",
   "metadata": {},
   "source": [
    "### Explore"
   ]
  },
  {
   "cell_type": "code",
   "execution_count": 490,
   "id": "4995049a",
   "metadata": {},
   "outputs": [
    {
     "data": {
      "text/html": [
       "<div>\n",
       "<style scoped>\n",
       "    .dataframe tbody tr th:only-of-type {\n",
       "        vertical-align: middle;\n",
       "    }\n",
       "\n",
       "    .dataframe tbody tr th {\n",
       "        vertical-align: top;\n",
       "    }\n",
       "\n",
       "    .dataframe thead th {\n",
       "        text-align: right;\n",
       "    }\n",
       "</style>\n",
       "<table border=\"1\" class=\"dataframe\">\n",
       "  <thead>\n",
       "    <tr style=\"text-align: right;\">\n",
       "      <th></th>\n",
       "      <th>iso3</th>\n",
       "      <th>maize</th>\n",
       "      <th>feat1</th>\n",
       "      <th>feat2</th>\n",
       "      <th>feat3</th>\n",
       "      <th>feat4</th>\n",
       "      <th>feat5</th>\n",
       "      <th>feat6</th>\n",
       "      <th>feat7</th>\n",
       "      <th>feat8</th>\n",
       "      <th>feat9</th>\n",
       "      <th>feat10</th>\n",
       "      <th>feat11</th>\n",
       "    </tr>\n",
       "  </thead>\n",
       "  <tbody>\n",
       "    <tr>\n",
       "      <th>0</th>\n",
       "      <td>AGO</td>\n",
       "      <td>10836.0</td>\n",
       "      <td>36.814791</td>\n",
       "      <td>458970.0</td>\n",
       "      <td>4.309778</td>\n",
       "      <td>0.155722</td>\n",
       "      <td>3.166030</td>\n",
       "      <td>51.794773</td>\n",
       "      <td>52.648165</td>\n",
       "      <td>52.226425</td>\n",
       "      <td>67.460</td>\n",
       "      <td>58.65716</td>\n",
       "      <td>65.73271</td>\n",
       "    </tr>\n",
       "    <tr>\n",
       "      <th>1</th>\n",
       "      <td>BEN</td>\n",
       "      <td>12064.0</td>\n",
       "      <td>35.030153</td>\n",
       "      <td>39500.0</td>\n",
       "      <td>24.831501</td>\n",
       "      <td>0.215436</td>\n",
       "      <td>2.759705</td>\n",
       "      <td>54.189234</td>\n",
       "      <td>54.502531</td>\n",
       "      <td>54.345611</td>\n",
       "      <td>48.972</td>\n",
       "      <td>28.14955</td>\n",
       "      <td>13.07583</td>\n",
       "    </tr>\n",
       "    <tr>\n",
       "      <th>2</th>\n",
       "      <td>BWA</td>\n",
       "      <td>7980.0</td>\n",
       "      <td>45.633723</td>\n",
       "      <td>258620.0</td>\n",
       "      <td>0.458772</td>\n",
       "      <td>0.100447</td>\n",
       "      <td>1.636743</td>\n",
       "      <td>63.295558</td>\n",
       "      <td>63.684988</td>\n",
       "      <td>63.492752</td>\n",
       "      <td>71.560</td>\n",
       "      <td>23.07407</td>\n",
       "      <td>16.44704</td>\n",
       "    </tr>\n",
       "    <tr>\n",
       "      <th>3</th>\n",
       "      <td>BFA</td>\n",
       "      <td>17238.0</td>\n",
       "      <td>46.564327</td>\n",
       "      <td>127400.0</td>\n",
       "      <td>22.295322</td>\n",
       "      <td>0.276010</td>\n",
       "      <td>2.650376</td>\n",
       "      <td>52.990508</td>\n",
       "      <td>53.730505</td>\n",
       "      <td>53.361834</td>\n",
       "      <td>31.240</td>\n",
       "      <td>73.26725</td>\n",
       "      <td>76.05038</td>\n",
       "    </tr>\n",
       "    <tr>\n",
       "      <th>4</th>\n",
       "      <td>BDI</td>\n",
       "      <td>15556.0</td>\n",
       "      <td>81.892523</td>\n",
       "      <td>21030.0</td>\n",
       "      <td>49.454829</td>\n",
       "      <td>0.101185</td>\n",
       "      <td>2.672478</td>\n",
       "      <td>50.990671</td>\n",
       "      <td>51.466715</td>\n",
       "      <td>51.230355</td>\n",
       "      <td>14.058</td>\n",
       "      <td>85.85030</td>\n",
       "      <td>93.65079</td>\n",
       "    </tr>\n",
       "  </tbody>\n",
       "</table>\n",
       "</div>"
      ],
      "text/plain": [
       "  iso3    maize      feat1     feat2      feat3     feat4     feat5  \\\n",
       "0  AGO  10836.0  36.814791  458970.0   4.309778  0.155722  3.166030   \n",
       "1  BEN  12064.0  35.030153   39500.0  24.831501  0.215436  2.759705   \n",
       "2  BWA   7980.0  45.633723  258620.0   0.458772  0.100447  1.636743   \n",
       "3  BFA  17238.0  46.564327  127400.0  22.295322  0.276010  2.650376   \n",
       "4  BDI  15556.0  81.892523   21030.0  49.454829  0.101185  2.672478   \n",
       "\n",
       "       feat6      feat7      feat8   feat9    feat10    feat11  \n",
       "0  51.794773  52.648165  52.226425  67.460  58.65716  65.73271  \n",
       "1  54.189234  54.502531  54.345611  48.972  28.14955  13.07583  \n",
       "2  63.295558  63.684988  63.492752  71.560  23.07407  16.44704  \n",
       "3  52.990508  53.730505  53.361834  31.240  73.26725  76.05038  \n",
       "4  50.990671  51.466715  51.230355  14.058  85.85030  93.65079  "
      ]
     },
     "execution_count": 490,
     "metadata": {},
     "output_type": "execute_result"
    }
   ],
   "source": [
    "df.head()"
   ]
  },
  {
   "cell_type": "code",
   "execution_count": 462,
   "id": "cee6d89b",
   "metadata": {},
   "outputs": [
    {
     "name": "stdout",
     "output_type": "stream",
     "text": [
      "The shape of data is : (39, 13)\n",
      "<class 'pandas.core.frame.DataFrame'>\n",
      "Int64Index: 39 entries, 0 to 48\n",
      "Data columns (total 13 columns):\n",
      " #   Column  Non-Null Count  Dtype  \n",
      "---  ------  --------------  -----  \n",
      " 0   iso3    39 non-null     object \n",
      " 1   maize   39 non-null     float64\n",
      " 2   feat1   39 non-null     float64\n",
      " 3   feat2   39 non-null     float64\n",
      " 4   feat3   39 non-null     float64\n",
      " 5   feat4   39 non-null     float64\n",
      " 6   feat5   39 non-null     float64\n",
      " 7   feat6   39 non-null     float64\n",
      " 8   feat7   39 non-null     float64\n",
      " 9   feat8   39 non-null     float64\n",
      " 10  feat9   39 non-null     float64\n",
      " 11  feat10  39 non-null     float64\n",
      " 12  feat11  39 non-null     float64\n",
      "dtypes: float64(12), object(1)\n",
      "memory usage: 4.3+ KB\n"
     ]
    }
   ],
   "source": [
    "print(\"The shape of data is :\",df.shape)\n",
    "df.info()"
   ]
  },
  {
   "cell_type": "markdown",
   "id": "26689a27",
   "metadata": {},
   "source": [
    "The target value is numeric and all explanatory variables are also numerci."
   ]
  },
  {
   "cell_type": "code",
   "execution_count": 463,
   "id": "ca6ce623",
   "metadata": {
    "scrolled": true
   },
   "outputs": [
    {
     "name": "stdout",
     "output_type": "stream",
     "text": [
      "iso3      0\n",
      "maize     0\n",
      "feat1     0\n",
      "feat2     0\n",
      "feat3     0\n",
      "feat4     0\n",
      "feat5     0\n",
      "feat6     0\n",
      "feat7     0\n",
      "feat8     0\n",
      "feat9     0\n",
      "feat10    0\n",
      "feat11    0\n",
      "dtype: int64\n"
     ]
    }
   ],
   "source": [
    "print(df.isna().sum())"
   ]
  },
  {
   "cell_type": "code",
   "execution_count": 464,
   "id": "18bd6899",
   "metadata": {},
   "outputs": [
    {
     "name": "stdout",
     "output_type": "stream",
     "text": [
      "The shape of data is: (39, 13)\n"
     ]
    }
   ],
   "source": [
    "print(\"The shape of data is:\",df.shape)"
   ]
  },
  {
   "cell_type": "code",
   "execution_count": 465,
   "id": "681238a9",
   "metadata": {},
   "outputs": [
    {
     "name": "stdout",
     "output_type": "stream",
     "text": [
      "Dunplicated: 0\n"
     ]
    }
   ],
   "source": [
    "print(\"Dunplicated:\",df.duplicated().sum())"
   ]
  },
  {
   "cell_type": "markdown",
   "id": "d44376a3",
   "metadata": {},
   "source": [
    "#### Cheick the cordinality"
   ]
  },
  {
   "cell_type": "code",
   "execution_count": 466,
   "id": "b8957865",
   "metadata": {},
   "outputs": [
    {
     "data": {
      "text/plain": [
       "iso3    39\n",
       "dtype: int64"
      ]
     },
     "execution_count": 466,
     "metadata": {},
     "output_type": "execute_result"
    }
   ],
   "source": [
    "df.select_dtypes('object').nunique()"
   ]
  },
  {
   "cell_type": "code",
   "execution_count": 468,
   "id": "37ac0e04",
   "metadata": {},
   "outputs": [
    {
     "data": {
      "text/plain": [
       "iso3    39\n",
       "dtype: int64"
      ]
     },
     "execution_count": 468,
     "metadata": {},
     "output_type": "execute_result"
    }
   ],
   "source": [
    "df.select_dtypes('object').nunique()"
   ]
  },
  {
   "cell_type": "markdown",
   "id": "d133700d",
   "metadata": {},
   "source": [
    "The **48 subsaharan countries** are represented"
   ]
  },
  {
   "cell_type": "markdown",
   "id": "db63a914",
   "metadata": {},
   "source": [
    "#### check for leakage"
   ]
  },
  {
   "cell_type": "code",
   "execution_count": 470,
   "id": "56829973",
   "metadata": {},
   "outputs": [
    {
     "data": {
      "text/plain": [
       "['feat1',\n",
       " 'feat10',\n",
       " 'feat11',\n",
       " 'feat2',\n",
       " 'feat3',\n",
       " 'feat4',\n",
       " 'feat5',\n",
       " 'feat6',\n",
       " 'feat7',\n",
       " 'feat8',\n",
       " 'feat9',\n",
       " 'iso3',\n",
       " 'maize']"
      ]
     },
     "execution_count": 470,
     "metadata": {},
     "output_type": "execute_result"
    }
   ],
   "source": [
    "sorted(df.columns)"
   ]
  },
  {
   "cell_type": "code",
   "execution_count": 471,
   "id": "3c992e80",
   "metadata": {},
   "outputs": [
    {
     "data": {
      "image/png": "[encoded data removed]",
      "text/plain": [
       "<Figure size 640x480 with 2 Axes>"
      ]
     },
     "metadata": {},
     "output_type": "display_data"
    }
   ],
   "source": [
    "corr=df.select_dtypes(\"number\").drop(columns=\"maize\").corr()\n",
    "sns.heatmap(corr,annot=True);"
   ]
  },
  {
   "cell_type": "code",
   "execution_count": 472,
   "id": "603e2d5f",
   "metadata": {},
   "outputs": [
    {
     "data": {
      "text/html": [
       "<div>\n",
       "<style scoped>\n",
       "    .dataframe tbody tr th:only-of-type {\n",
       "        vertical-align: middle;\n",
       "    }\n",
       "\n",
       "    .dataframe tbody tr th {\n",
       "        vertical-align: top;\n",
       "    }\n",
       "\n",
       "    .dataframe thead th {\n",
       "        text-align: right;\n",
       "    }\n",
       "</style>\n",
       "<table border=\"1\" class=\"dataframe\">\n",
       "  <thead>\n",
       "    <tr style=\"text-align: right;\">\n",
       "      <th></th>\n",
       "      <th>feat1</th>\n",
       "      <th>feat2</th>\n",
       "      <th>feat3</th>\n",
       "      <th>feat4</th>\n",
       "      <th>feat5</th>\n",
       "      <th>feat6</th>\n",
       "      <th>feat7</th>\n",
       "      <th>feat8</th>\n",
       "      <th>feat9</th>\n",
       "      <th>feat10</th>\n",
       "      <th>feat11</th>\n",
       "    </tr>\n",
       "  </thead>\n",
       "  <tbody>\n",
       "    <tr>\n",
       "      <th>feat1</th>\n",
       "      <td>1.000</td>\n",
       "      <td>0.116</td>\n",
       "      <td>0.536</td>\n",
       "      <td>0.060</td>\n",
       "      <td>-0.083</td>\n",
       "      <td>-0.095</td>\n",
       "      <td>0.029</td>\n",
       "      <td>-0.042</td>\n",
       "      <td>-0.494</td>\n",
       "      <td>-0.072</td>\n",
       "      <td>-0.121</td>\n",
       "    </tr>\n",
       "    <tr>\n",
       "      <th>feat2</th>\n",
       "      <td>0.116</td>\n",
       "      <td>1.000</td>\n",
       "      <td>-0.163</td>\n",
       "      <td>0.537</td>\n",
       "      <td>0.427</td>\n",
       "      <td>-0.385</td>\n",
       "      <td>-0.370</td>\n",
       "      <td>-0.383</td>\n",
       "      <td>-0.112</td>\n",
       "      <td>0.177</td>\n",
       "      <td>0.202</td>\n",
       "    </tr>\n",
       "    <tr>\n",
       "      <th>feat3</th>\n",
       "      <td>0.536</td>\n",
       "      <td>-0.163</td>\n",
       "      <td>1.000</td>\n",
       "      <td>0.117</td>\n",
       "      <td>0.161</td>\n",
       "      <td>-0.205</td>\n",
       "      <td>-0.159</td>\n",
       "      <td>-0.186</td>\n",
       "      <td>-0.503</td>\n",
       "      <td>0.160</td>\n",
       "      <td>0.111</td>\n",
       "    </tr>\n",
       "    <tr>\n",
       "      <th>feat4</th>\n",
       "      <td>0.060</td>\n",
       "      <td>0.537</td>\n",
       "      <td>0.117</td>\n",
       "      <td>1.000</td>\n",
       "      <td>0.345</td>\n",
       "      <td>-0.446</td>\n",
       "      <td>-0.380</td>\n",
       "      <td>-0.421</td>\n",
       "      <td>-0.359</td>\n",
       "      <td>0.250</td>\n",
       "      <td>0.235</td>\n",
       "    </tr>\n",
       "    <tr>\n",
       "      <th>feat5</th>\n",
       "      <td>-0.083</td>\n",
       "      <td>0.427</td>\n",
       "      <td>0.161</td>\n",
       "      <td>0.345</td>\n",
       "      <td>1.000</td>\n",
       "      <td>-0.806</td>\n",
       "      <td>-0.824</td>\n",
       "      <td>-0.824</td>\n",
       "      <td>-0.087</td>\n",
       "      <td>0.472</td>\n",
       "      <td>0.447</td>\n",
       "    </tr>\n",
       "    <tr>\n",
       "      <th>feat6</th>\n",
       "      <td>-0.095</td>\n",
       "      <td>-0.385</td>\n",
       "      <td>-0.205</td>\n",
       "      <td>-0.446</td>\n",
       "      <td>-0.806</td>\n",
       "      <td>1.000</td>\n",
       "      <td>0.954</td>\n",
       "      <td>0.991</td>\n",
       "      <td>0.381</td>\n",
       "      <td>-0.527</td>\n",
       "      <td>-0.506</td>\n",
       "    </tr>\n",
       "    <tr>\n",
       "      <th>feat7</th>\n",
       "      <td>0.029</td>\n",
       "      <td>-0.370</td>\n",
       "      <td>-0.159</td>\n",
       "      <td>-0.380</td>\n",
       "      <td>-0.824</td>\n",
       "      <td>0.954</td>\n",
       "      <td>1.000</td>\n",
       "      <td>0.986</td>\n",
       "      <td>0.300</td>\n",
       "      <td>-0.548</td>\n",
       "      <td>-0.517</td>\n",
       "    </tr>\n",
       "    <tr>\n",
       "      <th>feat8</th>\n",
       "      <td>-0.042</td>\n",
       "      <td>-0.383</td>\n",
       "      <td>-0.186</td>\n",
       "      <td>-0.421</td>\n",
       "      <td>-0.824</td>\n",
       "      <td>0.991</td>\n",
       "      <td>0.986</td>\n",
       "      <td>1.000</td>\n",
       "      <td>0.349</td>\n",
       "      <td>-0.540</td>\n",
       "      <td>-0.514</td>\n",
       "    </tr>\n",
       "    <tr>\n",
       "      <th>feat9</th>\n",
       "      <td>-0.494</td>\n",
       "      <td>-0.112</td>\n",
       "      <td>-0.503</td>\n",
       "      <td>-0.359</td>\n",
       "      <td>-0.087</td>\n",
       "      <td>0.381</td>\n",
       "      <td>0.300</td>\n",
       "      <td>0.349</td>\n",
       "      <td>1.000</td>\n",
       "      <td>-0.488</td>\n",
       "      <td>-0.463</td>\n",
       "    </tr>\n",
       "    <tr>\n",
       "      <th>feat10</th>\n",
       "      <td>-0.072</td>\n",
       "      <td>0.177</td>\n",
       "      <td>0.160</td>\n",
       "      <td>0.250</td>\n",
       "      <td>0.472</td>\n",
       "      <td>-0.527</td>\n",
       "      <td>-0.548</td>\n",
       "      <td>-0.540</td>\n",
       "      <td>-0.488</td>\n",
       "      <td>1.000</td>\n",
       "      <td>0.967</td>\n",
       "    </tr>\n",
       "    <tr>\n",
       "      <th>feat11</th>\n",
       "      <td>-0.121</td>\n",
       "      <td>0.202</td>\n",
       "      <td>0.111</td>\n",
       "      <td>0.235</td>\n",
       "      <td>0.447</td>\n",
       "      <td>-0.506</td>\n",
       "      <td>-0.517</td>\n",
       "      <td>-0.514</td>\n",
       "      <td>-0.463</td>\n",
       "      <td>0.967</td>\n",
       "      <td>1.000</td>\n",
       "    </tr>\n",
       "  </tbody>\n",
       "</table>\n",
       "</div>"
      ],
      "text/plain": [
       "        feat1  feat2  feat3  feat4  feat5  feat6  feat7  feat8  feat9  feat10  \\\n",
       "feat1   1.000  0.116  0.536  0.060 -0.083 -0.095  0.029 -0.042 -0.494  -0.072   \n",
       "feat2   0.116  1.000 -0.163  0.537  0.427 -0.385 -0.370 -0.383 -0.112   0.177   \n",
       "feat3   0.536 -0.163  1.000  0.117  0.161 -0.205 -0.159 -0.186 -0.503   0.160   \n",
       "feat4   0.060  0.537  0.117  1.000  0.345 -0.446 -0.380 -0.421 -0.359   0.250   \n",
       "feat5  -0.083  0.427  0.161  0.345  1.000 -0.806 -0.824 -0.824 -0.087   0.472   \n",
       "feat6  -0.095 -0.385 -0.205 -0.446 -0.806  1.000  0.954  0.991  0.381  -0.527   \n",
       "feat7   0.029 -0.370 -0.159 -0.380 -0.824  0.954  1.000  0.986  0.300  -0.548   \n",
       "feat8  -0.042 -0.383 -0.186 -0.421 -0.824  0.991  0.986  1.000  0.349  -0.540   \n",
       "feat9  -0.494 -0.112 -0.503 -0.359 -0.087  0.381  0.300  0.349  1.000  -0.488   \n",
       "feat10 -0.072  0.177  0.160  0.250  0.472 -0.527 -0.548 -0.540 -0.488   1.000   \n",
       "feat11 -0.121  0.202  0.111  0.235  0.447 -0.506 -0.517 -0.514 -0.463   0.967   \n",
       "\n",
       "        feat11  \n",
       "feat1   -0.121  \n",
       "feat2    0.202  \n",
       "feat3    0.111  \n",
       "feat4    0.235  \n",
       "feat5    0.447  \n",
       "feat6   -0.506  \n",
       "feat7   -0.517  \n",
       "feat8   -0.514  \n",
       "feat9   -0.463  \n",
       "feat10   0.967  \n",
       "feat11   1.000  "
      ]
     },
     "execution_count": 472,
     "metadata": {},
     "output_type": "execute_result"
    }
   ],
   "source": [
    "round(corr,3)"
   ]
  },
  {
   "cell_type": "code",
   "execution_count": 473,
   "id": "755ad853",
   "metadata": {},
   "outputs": [
    {
     "data": {
      "image/png": "[encoded data removed]",
      "text/plain": [
       "<Figure size 640x480 with 1 Axes>"
      ]
     },
     "metadata": {},
     "output_type": "display_data"
    }
   ],
   "source": [
    "plt.hist(df[\"maize\"])\n",
    "plt.xlabel(\"maize\")\n",
    "plt.ylabel(\"Count\")\n",
    "plt.title(\"Distribution of maize yield\");"
   ]
  },
  {
   "cell_type": "code",
   "execution_count": 474,
   "id": "89bcc414",
   "metadata": {},
   "outputs": [
    {
     "data": {
      "image/png": "[encoded data removed]",
      "text/plain": [
       "<Figure size 640x480 with 1 Axes>"
      ]
     },
     "metadata": {},
     "output_type": "display_data"
    }
   ],
   "source": [
    "# Data distribution\n",
    "plt.title('Distribution of Maize yield in Subsaharan countries ')\n",
    "sns.distplot(df['maize'])\n",
    "plt.show()"
   ]
  },
  {
   "cell_type": "markdown",
   "id": "6ef7fa0b",
   "metadata": {},
   "source": [
    "- The distribution is not far from the normality"
   ]
  },
  {
   "cell_type": "code",
   "execution_count": 475,
   "id": "b0102c81",
   "metadata": {},
   "outputs": [],
   "source": [
    "#mean of maize by country\n",
    "mean_maize_by_state=df.groupby('iso3')['maize'].mean().sort_values(ascending=True)"
   ]
  },
  {
   "cell_type": "code",
   "execution_count": 476,
   "id": "eeaf565a",
   "metadata": {},
   "outputs": [
    {
     "data": {
      "text/html": [
       "<div>\n",
       "<style scoped>\n",
       "    .dataframe tbody tr th:only-of-type {\n",
       "        vertical-align: middle;\n",
       "    }\n",
       "\n",
       "    .dataframe tbody tr th {\n",
       "        vertical-align: top;\n",
       "    }\n",
       "\n",
       "    .dataframe thead th {\n",
       "        text-align: right;\n",
       "    }\n",
       "</style>\n",
       "<table border=\"1\" class=\"dataframe\">\n",
       "  <thead>\n",
       "    <tr style=\"text-align: right;\">\n",
       "      <th></th>\n",
       "      <th>iso3</th>\n",
       "      <th>maize</th>\n",
       "      <th>feat1</th>\n",
       "      <th>feat2</th>\n",
       "      <th>feat3</th>\n",
       "      <th>feat4</th>\n",
       "      <th>feat5</th>\n",
       "      <th>feat6</th>\n",
       "      <th>feat7</th>\n",
       "      <th>feat8</th>\n",
       "      <th>feat9</th>\n",
       "      <th>feat10</th>\n",
       "      <th>feat11</th>\n",
       "    </tr>\n",
       "  </thead>\n",
       "  <tbody>\n",
       "    <tr>\n",
       "      <th>0</th>\n",
       "      <td>AGO</td>\n",
       "      <td>10836.0</td>\n",
       "      <td>36.814791</td>\n",
       "      <td>458970.0</td>\n",
       "      <td>4.309778</td>\n",
       "      <td>0.155722</td>\n",
       "      <td>3.166030</td>\n",
       "      <td>51.794773</td>\n",
       "      <td>52.648165</td>\n",
       "      <td>52.226425</td>\n",
       "      <td>67.460</td>\n",
       "      <td>58.65716</td>\n",
       "      <td>65.73271</td>\n",
       "    </tr>\n",
       "    <tr>\n",
       "      <th>1</th>\n",
       "      <td>BEN</td>\n",
       "      <td>12064.0</td>\n",
       "      <td>35.030153</td>\n",
       "      <td>39500.0</td>\n",
       "      <td>24.831501</td>\n",
       "      <td>0.215436</td>\n",
       "      <td>2.759705</td>\n",
       "      <td>54.189234</td>\n",
       "      <td>54.502531</td>\n",
       "      <td>54.345611</td>\n",
       "      <td>48.972</td>\n",
       "      <td>28.14955</td>\n",
       "      <td>13.07583</td>\n",
       "    </tr>\n",
       "    <tr>\n",
       "      <th>2</th>\n",
       "      <td>BWA</td>\n",
       "      <td>7980.0</td>\n",
       "      <td>45.633723</td>\n",
       "      <td>258620.0</td>\n",
       "      <td>0.458772</td>\n",
       "      <td>0.100447</td>\n",
       "      <td>1.636743</td>\n",
       "      <td>63.295558</td>\n",
       "      <td>63.684988</td>\n",
       "      <td>63.492752</td>\n",
       "      <td>71.560</td>\n",
       "      <td>23.07407</td>\n",
       "      <td>16.44704</td>\n",
       "    </tr>\n",
       "    <tr>\n",
       "      <th>3</th>\n",
       "      <td>BFA</td>\n",
       "      <td>17238.0</td>\n",
       "      <td>46.564327</td>\n",
       "      <td>127400.0</td>\n",
       "      <td>22.295322</td>\n",
       "      <td>0.276010</td>\n",
       "      <td>2.650376</td>\n",
       "      <td>52.990508</td>\n",
       "      <td>53.730505</td>\n",
       "      <td>53.361834</td>\n",
       "      <td>31.240</td>\n",
       "      <td>73.26725</td>\n",
       "      <td>76.05038</td>\n",
       "    </tr>\n",
       "    <tr>\n",
       "      <th>4</th>\n",
       "      <td>BDI</td>\n",
       "      <td>15556.0</td>\n",
       "      <td>81.892523</td>\n",
       "      <td>21030.0</td>\n",
       "      <td>49.454829</td>\n",
       "      <td>0.101185</td>\n",
       "      <td>2.672478</td>\n",
       "      <td>50.990671</td>\n",
       "      <td>51.466715</td>\n",
       "      <td>51.230355</td>\n",
       "      <td>14.058</td>\n",
       "      <td>85.85030</td>\n",
       "      <td>93.65079</td>\n",
       "    </tr>\n",
       "  </tbody>\n",
       "</table>\n",
       "</div>"
      ],
      "text/plain": [
       "  iso3    maize      feat1     feat2      feat3     feat4     feat5  \\\n",
       "0  AGO  10836.0  36.814791  458970.0   4.309778  0.155722  3.166030   \n",
       "1  BEN  12064.0  35.030153   39500.0  24.831501  0.215436  2.759705   \n",
       "2  BWA   7980.0  45.633723  258620.0   0.458772  0.100447  1.636743   \n",
       "3  BFA  17238.0  46.564327  127400.0  22.295322  0.276010  2.650376   \n",
       "4  BDI  15556.0  81.892523   21030.0  49.454829  0.101185  2.672478   \n",
       "\n",
       "       feat6      feat7      feat8   feat9    feat10    feat11  \n",
       "0  51.794773  52.648165  52.226425  67.460  58.65716  65.73271  \n",
       "1  54.189234  54.502531  54.345611  48.972  28.14955  13.07583  \n",
       "2  63.295558  63.684988  63.492752  71.560  23.07407  16.44704  \n",
       "3  52.990508  53.730505  53.361834  31.240  73.26725  76.05038  \n",
       "4  50.990671  51.466715  51.230355  14.058  85.85030  93.65079  "
      ]
     },
     "execution_count": 476,
     "metadata": {},
     "output_type": "execute_result"
    }
   ],
   "source": [
    "df.head()"
   ]
  },
  {
   "cell_type": "markdown",
   "id": "cd8ebe11",
   "metadata": {},
   "source": [
    "- The plot shows that Zambia has higher maize yield ,following by Saotome de Principe ,Seychells,Gambia ,Ghinea,Mozambic and Biseau Guinea"
   ]
  },
  {
   "cell_type": "code",
   "execution_count": 477,
   "id": "d892e565",
   "metadata": {},
   "outputs": [
    {
     "data": {
      "image/png": "[encoded data removed]",
      "text/plain": [
       "<Figure size 640x480 with 1 Axes>"
      ]
     },
     "metadata": {},
     "output_type": "display_data"
    }
   ],
   "source": [
    "#Create a bar plot\n",
    "mean_maize_by_state.plot(\n",
    "       kind=\"bar\",\n",
    "       xlabel=\"state\",\n",
    "       ylabel=\"Mean Maize per country\",\n",
    "       title=\"Mean mize subsaharian country\"\n",
    ");"
   ]
  },
  {
   "cell_type": "markdown",
   "id": "a514aa8b",
   "metadata": {},
   "source": [
    "The plot clearly states that Ghana has the highest mean of maize yiled than any subsaharan country.Somali reprente small maize yield which is explain by secheresse"
   ]
  },
  {
   "cell_type": "code",
   "execution_count": 478,
   "id": "fd352db9",
   "metadata": {},
   "outputs": [
    {
     "data": {
      "text/plain": [
       "count       39\n",
       "mean     15758\n",
       "std       5774\n",
       "min       7500\n",
       "25%      11033\n",
       "50%      15556\n",
       "75%      19972\n",
       "max      26923\n",
       "Name: maize, dtype: object"
      ]
     },
     "execution_count": 478,
     "metadata": {},
     "output_type": "execute_result"
    }
   ],
   "source": [
    "#describe Maize\n",
    "df['maize'].describe().apply(\"{0:.0f}\".format)"
   ]
  },
  {
   "cell_type": "code",
   "execution_count": 479,
   "id": "669b6803",
   "metadata": {},
   "outputs": [
    {
     "data": {
      "text/html": [
       "<div>\n",
       "<style scoped>\n",
       "    .dataframe tbody tr th:only-of-type {\n",
       "        vertical-align: middle;\n",
       "    }\n",
       "\n",
       "    .dataframe tbody tr th {\n",
       "        vertical-align: top;\n",
       "    }\n",
       "\n",
       "    .dataframe thead th {\n",
       "        text-align: right;\n",
       "    }\n",
       "</style>\n",
       "<table border=\"1\" class=\"dataframe\">\n",
       "  <thead>\n",
       "    <tr style=\"text-align: right;\">\n",
       "      <th></th>\n",
       "      <th>maize</th>\n",
       "      <th>feat1</th>\n",
       "      <th>feat2</th>\n",
       "      <th>feat3</th>\n",
       "      <th>feat4</th>\n",
       "      <th>feat5</th>\n",
       "      <th>feat6</th>\n",
       "      <th>feat7</th>\n",
       "      <th>feat8</th>\n",
       "      <th>feat9</th>\n",
       "      <th>feat10</th>\n",
       "      <th>feat11</th>\n",
       "    </tr>\n",
       "  </thead>\n",
       "  <tbody>\n",
       "    <tr>\n",
       "      <th>count</th>\n",
       "      <td>39.000000</td>\n",
       "      <td>39.000000</td>\n",
       "      <td>3.900000e+01</td>\n",
       "      <td>39.000000</td>\n",
       "      <td>39.000000</td>\n",
       "      <td>39.000000</td>\n",
       "      <td>39.000000</td>\n",
       "      <td>39.000000</td>\n",
       "      <td>39.000000</td>\n",
       "      <td>39.000000</td>\n",
       "      <td>39.000000</td>\n",
       "      <td>39.000000</td>\n",
       "    </tr>\n",
       "    <tr>\n",
       "      <th>mean</th>\n",
       "      <td>15757.606466</td>\n",
       "      <td>48.604741</td>\n",
       "      <td>2.078596e+05</td>\n",
       "      <td>13.848131</td>\n",
       "      <td>0.170668</td>\n",
       "      <td>2.293577</td>\n",
       "      <td>56.078135</td>\n",
       "      <td>56.297899</td>\n",
       "      <td>56.200182</td>\n",
       "      <td>45.495205</td>\n",
       "      <td>45.647855</td>\n",
       "      <td>46.812769</td>\n",
       "    </tr>\n",
       "    <tr>\n",
       "      <th>std</th>\n",
       "      <td>5773.633633</td>\n",
       "      <td>21.967386</td>\n",
       "      <td>2.362713e+05</td>\n",
       "      <td>14.822557</td>\n",
       "      <td>0.100300</td>\n",
       "      <td>0.620121</td>\n",
       "      <td>4.454191</td>\n",
       "      <td>3.767497</td>\n",
       "      <td>4.074795</td>\n",
       "      <td>18.329507</td>\n",
       "      <td>19.550955</td>\n",
       "      <td>23.432144</td>\n",
       "    </tr>\n",
       "    <tr>\n",
       "      <th>min</th>\n",
       "      <td>7500.000000</td>\n",
       "      <td>3.369565</td>\n",
       "      <td>1.550000e+01</td>\n",
       "      <td>0.129422</td>\n",
       "      <td>0.001511</td>\n",
       "      <td>0.805183</td>\n",
       "      <td>49.866459</td>\n",
       "      <td>50.019870</td>\n",
       "      <td>50.151164</td>\n",
       "      <td>14.058000</td>\n",
       "      <td>1.184986</td>\n",
       "      <td>0.917983</td>\n",
       "    </tr>\n",
       "    <tr>\n",
       "      <th>25%</th>\n",
       "      <td>11033.000000</td>\n",
       "      <td>35.188963</td>\n",
       "      <td>2.128118e+04</td>\n",
       "      <td>4.187844</td>\n",
       "      <td>0.100816</td>\n",
       "      <td>1.975253</td>\n",
       "      <td>53.347136</td>\n",
       "      <td>54.052583</td>\n",
       "      <td>53.730012</td>\n",
       "      <td>31.771500</td>\n",
       "      <td>30.432495</td>\n",
       "      <td>27.231400</td>\n",
       "    </tr>\n",
       "    <tr>\n",
       "      <th>50%</th>\n",
       "      <td>15556.000000</td>\n",
       "      <td>47.142562</td>\n",
       "      <td>1.260374e+05</td>\n",
       "      <td>10.190814</td>\n",
       "      <td>0.155722</td>\n",
       "      <td>2.378495</td>\n",
       "      <td>55.371702</td>\n",
       "      <td>55.843096</td>\n",
       "      <td>55.743353</td>\n",
       "      <td>44.677000</td>\n",
       "      <td>44.984287</td>\n",
       "      <td>47.604410</td>\n",
       "    </tr>\n",
       "    <tr>\n",
       "      <th>75%</th>\n",
       "      <td>19972.500000</td>\n",
       "      <td>69.855121</td>\n",
       "      <td>3.635500e+05</td>\n",
       "      <td>17.568143</td>\n",
       "      <td>0.224869</td>\n",
       "      <td>2.686762</td>\n",
       "      <td>58.082974</td>\n",
       "      <td>58.027463</td>\n",
       "      <td>58.026360</td>\n",
       "      <td>55.488500</td>\n",
       "      <td>61.764265</td>\n",
       "      <td>65.961655</td>\n",
       "    </tr>\n",
       "    <tr>\n",
       "      <th>max</th>\n",
       "      <td>26923.000000</td>\n",
       "      <td>81.892523</td>\n",
       "      <td>1.126648e+06</td>\n",
       "      <td>51.414674</td>\n",
       "      <td>0.459836</td>\n",
       "      <td>3.222528</td>\n",
       "      <td>71.149733</td>\n",
       "      <td>66.512145</td>\n",
       "      <td>68.955720</td>\n",
       "      <td>90.423000</td>\n",
       "      <td>85.850300</td>\n",
       "      <td>93.650790</td>\n",
       "    </tr>\n",
       "  </tbody>\n",
       "</table>\n",
       "</div>"
      ],
      "text/plain": [
       "              maize      feat1         feat2      feat3      feat4      feat5  \\\n",
       "count     39.000000  39.000000  3.900000e+01  39.000000  39.000000  39.000000   \n",
       "mean   15757.606466  48.604741  2.078596e+05  13.848131   0.170668   2.293577   \n",
       "std     5773.633633  21.967386  2.362713e+05  14.822557   0.100300   0.620121   \n",
       "min     7500.000000   3.369565  1.550000e+01   0.129422   0.001511   0.805183   \n",
       "25%    11033.000000  35.188963  2.128118e+04   4.187844   0.100816   1.975253   \n",
       "50%    15556.000000  47.142562  1.260374e+05  10.190814   0.155722   2.378495   \n",
       "75%    19972.500000  69.855121  3.635500e+05  17.568143   0.224869   2.686762   \n",
       "max    26923.000000  81.892523  1.126648e+06  51.414674   0.459836   3.222528   \n",
       "\n",
       "           feat6      feat7      feat8      feat9     feat10     feat11  \n",
       "count  39.000000  39.000000  39.000000  39.000000  39.000000  39.000000  \n",
       "mean   56.078135  56.297899  56.200182  45.495205  45.647855  46.812769  \n",
       "std     4.454191   3.767497   4.074795  18.329507  19.550955  23.432144  \n",
       "min    49.866459  50.019870  50.151164  14.058000   1.184986   0.917983  \n",
       "25%    53.347136  54.052583  53.730012  31.771500  30.432495  27.231400  \n",
       "50%    55.371702  55.843096  55.743353  44.677000  44.984287  47.604410  \n",
       "75%    58.082974  58.027463  58.026360  55.488500  61.764265  65.961655  \n",
       "max    71.149733  66.512145  68.955720  90.423000  85.850300  93.650790  "
      ]
     },
     "execution_count": 479,
     "metadata": {},
     "output_type": "execute_result"
    }
   ],
   "source": [
    "df.describe()"
   ]
  },
  {
   "cell_type": "code",
   "execution_count": 199,
   "id": "e267605b",
   "metadata": {},
   "outputs": [],
   "source": [
    "#features=df[['feat1','feat2','feat3','feat4','feat5','feat6','feat7','feat8','feat9','feat10','feat11']]"
   ]
  },
  {
   "cell_type": "code",
   "execution_count": 314,
   "id": "1e375695",
   "metadata": {},
   "outputs": [],
   "source": [
    "#features.head()"
   ]
  },
  {
   "cell_type": "code",
   "execution_count": 480,
   "id": "e6a0bec8",
   "metadata": {},
   "outputs": [
    {
     "data": {
      "image/png": "[encoded data removed]",
      "text/plain": [
       "<Figure size 640x480 with 1 Axes>"
      ]
     },
     "metadata": {},
     "output_type": "display_data"
    }
   ],
   "source": [
    "#sns.boxplot(x=df[features])\n",
    "   # plt.title(feature);\n",
    "sns.boxplot(x=df['maize'])\n",
    "plt.xlabel(\"maize yild \")\n",
    "plt.ylabel(\"frequency\")\n",
    "plt.title(\"The distribution of maize yield in Sub-Saharan countries\");"
   ]
  },
  {
   "cell_type": "markdown",
   "id": "e0687e84",
   "metadata": {},
   "source": [
    "- Maize yield is does not have outliers"
   ]
  },
  {
   "cell_type": "code",
   "execution_count": 481,
   "id": "9d0d798e",
   "metadata": {},
   "outputs": [
    {
     "data": {
      "image/png": "[encoded data removed]",
      "text/plain": [
       "<Figure size 640x480 with 1 Axes>"
      ]
     },
     "metadata": {},
     "output_type": "display_data"
    }
   ],
   "source": [
    "plt.scatter(x=df['feat3'],y=df['maize'])\n",
    "plt.xlabel('feat 2')\n",
    "plt.ylabel('maize')\n",
    "plt.title('maize & feat3');"
   ]
  },
  {
   "cell_type": "code",
   "execution_count": 482,
   "id": "2fceb815",
   "metadata": {},
   "outputs": [
    {
     "name": "stdout",
     "output_type": "stream",
     "text": [
      "nat_fig type: <class 'plotly.graph_objs._figure.Figure'>\n"
     ]
    },
    {
     "data": {
      "application/vnd.plotly.v1+json": {
       "config": {
        "plotlyServerURL": "https://plot.ly"
       },
       "data": [
        {
         "coloraxis": "coloraxis",
         "geo": "geo",
         "hovertemplate": "iso3=%{location}<br>maize=%{z}<extra></extra>",
         "locations": [
          "AGO",
          "BEN",
          "BWA",
          "BFA",
          "BDI",
          "CMR",
          "TCD",
          "COM",
          "COD",
          "COG",
          "CIV",
          "DJI",
          "GNQ",
          "ERI",
          "SWZ",
          "GAB",
          "GHA",
          "GIN",
          "KEN",
          "LSO",
          "LBR",
          "MDG",
          "MWI",
          "MOZ",
          "NAM",
          "NGA",
          "RWA",
          "STP",
          "SEN",
          "SYC",
          "SSD",
          "SDN",
          "TZA",
          "TGO",
          "ZMB",
          "ZWE",
          "GNB",
          "MLI",
          "SOM"
         ],
         "name": "",
         "type": "choropleth",
         "z": [
          10836,
          12064,
          7980,
          17238,
          15556,
          17705,
          11236,
          20378,
          7726,
          10000,
          21974,
          20004,
          17971.217391304348,
          10000,
          14286,
          15629,
          26923,
          14500,
          15231,
          7838,
          17971.217391304348,
          18386,
          26177,
          11230,
          19941,
          21242,
          15216,
          20065,
          26429,
          17971.217391304348,
          8447,
          7779,
          15998,
          12387,
          25674,
          15344,
          8260,
          23454,
          7500
         ]
        }
       ],
       "layout": {
        "coloraxis": {
         "colorbar": {
          "title": {
           "text": "maize"
          }
         },
         "colorscale": [
          [
           0,
           "rgb(255,245,235)"
          ],
          [
           0.125,
           "rgb(254,230,206)"
          ],
          [
           0.25,
           "rgb(253,208,162)"
          ],
          [
           0.375,
           "rgb(253,174,107)"
          ],
          [
           0.5,
           "rgb(253,141,60)"
          ],
          [
           0.625,
           "rgb(241,105,19)"
          ],
          [
           0.75,
           "rgb(217,72,1)"
          ],
          [
           0.875,
           "rgb(166,54,3)"
          ],
          [
           1,
           "rgb(127,39,4)"
          ]
         ]
        },
        "geo": {
         "center": {},
         "domain": {
          "x": [
           0,
           1
          ],
          "y": [
           0,
           1
          ]
         },
         "projection": {
          "type": "natural earth"
         }
        },
        "legend": {
         "tracegroupgap": 0
        },
        "template": {
         "data": {
          "bar": [
           {
            "error_x": {
             "color": "#2a3f5f"
            },
            "error_y": {
             "color": "#2a3f5f"
            },
            "marker": {
             "line": {
              "color": "#E5ECF6",
              "width": 0.5
             },
             "pattern": {
              "fillmode": "overlay",
              "size": 10,
              "solidity": 0.2
             }
            },
            "type": "bar"
           }
          ],
          "barpolar": [
           {
            "marker": {
             "line": {
              "color": "#E5ECF6",
              "width": 0.5
             },
             "pattern": {
              "fillmode": "overlay",
              "size": 10,
              "solidity": 0.2
             }
            },
            "type": "barpolar"
           }
          ],
          "carpet": [
           {
            "aaxis": {
             "endlinecolor": "#2a3f5f",
             "gridcolor": "white",
             "linecolor": "white",
             "minorgridcolor": "white",
             "startlinecolor": "#2a3f5f"
            },
            "baxis": {
             "endlinecolor": "#2a3f5f",
             "gridcolor": "white",
             "linecolor": "white",
             "minorgridcolor": "white",
             "startlinecolor": "#2a3f5f"
            },
            "type": "carpet"
           }
          ],
          "choropleth": [
           {
            "colorbar": {
             "outlinewidth": 0,
             "ticks": ""
            },
            "type": "choropleth"
           }
          ],
          "contour": [
           {
            "colorbar": {
             "outlinewidth": 0,
             "ticks": ""
            },
            "colorscale": [
             [
              0,
              "#0d0887"
             ],
             [
              0.1111111111111111,
              "#46039f"
             ],
             [
              0.2222222222222222,
              "#7201a8"
             ],
             [
              0.3333333333333333,
              "#9c179e"
             ],
             [
              0.4444444444444444,
              "#bd3786"
             ],
             [
              0.5555555555555556,
              "#d8576b"
             ],
             [
              0.6666666666666666,
              "#ed7953"
             ],
             [
              0.7777777777777778,
              "#fb9f3a"
             ],
             [
              0.8888888888888888,
              "#fdca26"
             ],
             [
              1,
              "#f0f921"
             ]
            ],
            "type": "contour"
           }
          ],
          "contourcarpet": [
           {
            "colorbar": {
             "outlinewidth": 0,
             "ticks": ""
            },
            "type": "contourcarpet"
           }
          ],
          "heatmap": [
           {
            "colorbar": {
             "outlinewidth": 0,
             "ticks": ""
            },
            "colorscale": [
             [
              0,
              "#0d0887"
             ],
             [
              0.1111111111111111,
              "#46039f"
             ],
             [
              0.2222222222222222,
              "#7201a8"
             ],
             [
              0.3333333333333333,
              "#9c179e"
             ],
             [
              0.4444444444444444,
              "#bd3786"
             ],
             [
              0.5555555555555556,
              "#d8576b"
             ],
             [
              0.6666666666666666,
              "#ed7953"
             ],
             [
              0.7777777777777778,
              "#fb9f3a"
             ],
             [
              0.8888888888888888,
              "#fdca26"
             ],
             [
              1,
              "#f0f921"
             ]
            ],
            "type": "heatmap"
           }
          ],
          "heatmapgl": [
           {
            "colorbar": {
             "outlinewidth": 0,
             "ticks": ""
            },
            "colorscale": [
             [
              0,
              "#0d0887"
             ],
             [
              0.1111111111111111,
              "#46039f"
             ],
             [
              0.2222222222222222,
              "#7201a8"
             ],
             [
              0.3333333333333333,
              "#9c179e"
             ],
             [
              0.4444444444444444,
              "#bd3786"
             ],
             [
              0.5555555555555556,
              "#d8576b"
             ],
             [
              0.6666666666666666,
              "#ed7953"
             ],
             [
              0.7777777777777778,
              "#fb9f3a"
             ],
             [
              0.8888888888888888,
              "#fdca26"
             ],
             [
              1,
              "#f0f921"
             ]
            ],
            "type": "heatmapgl"
           }
          ],
          "histogram": [
           {
            "marker": {
             "pattern": {
              "fillmode": "overlay",
              "size": 10,
              "solidity": 0.2
             }
            },
            "type": "histogram"
           }
          ],
          "histogram2d": [
           {
            "colorbar": {
             "outlinewidth": 0,
             "ticks": ""
            },
            "colorscale": [
             [
              0,
              "#0d0887"
             ],
             [
              0.1111111111111111,
              "#46039f"
             ],
             [
              0.2222222222222222,
              "#7201a8"
             ],
             [
              0.3333333333333333,
              "#9c179e"
             ],
             [
              0.4444444444444444,
              "#bd3786"
             ],
             [
              0.5555555555555556,
              "#d8576b"
             ],
             [
              0.6666666666666666,
              "#ed7953"
             ],
             [
              0.7777777777777778,
              "#fb9f3a"
             ],
             [
              0.8888888888888888,
              "#fdca26"
             ],
             [
              1,
              "#f0f921"
             ]
            ],
            "type": "histogram2d"
           }
          ],
          "histogram2dcontour": [
           {
            "colorbar": {
             "outlinewidth": 0,
             "ticks": ""
            },
            "colorscale": [
             [
              0,
              "#0d0887"
             ],
             [
              0.1111111111111111,
              "#46039f"
             ],
             [
              0.2222222222222222,
              "#7201a8"
             ],
             [
              0.3333333333333333,
              "#9c179e"
             ],
             [
              0.4444444444444444,
              "#bd3786"
             ],
             [
              0.5555555555555556,
              "#d8576b"
             ],
             [
              0.6666666666666666,
              "#ed7953"
             ],
             [
              0.7777777777777778,
              "#fb9f3a"
             ],
             [
              0.8888888888888888,
              "#fdca26"
             ],
             [
              1,
              "#f0f921"
             ]
            ],
            "type": "histogram2dcontour"
           }
          ],
          "mesh3d": [
           {
            "colorbar": {
             "outlinewidth": 0,
             "ticks": ""
            },
            "type": "mesh3d"
           }
          ],
          "parcoords": [
           {
            "line": {
             "colorbar": {
              "outlinewidth": 0,
              "ticks": ""
             }
            },
            "type": "parcoords"
           }
          ],
          "pie": [
           {
            "automargin": true,
            "type": "pie"
           }
          ],
          "scatter": [
           {
            "fillpattern": {
             "fillmode": "overlay",
             "size": 10,
             "solidity": 0.2
            },
            "type": "scatter"
           }
          ],
          "scatter3d": [
           {
            "line": {
             "colorbar": {
              "outlinewidth": 0,
              "ticks": ""
             }
            },
            "marker": {
             "colorbar": {
              "outlinewidth": 0,
              "ticks": ""
             }
            },
            "type": "scatter3d"
           }
          ],
          "scattercarpet": [
           {
            "marker": {
             "colorbar": {
              "outlinewidth": 0,
              "ticks": ""
             }
            },
            "type": "scattercarpet"
           }
          ],
          "scattergeo": [
           {
            "marker": {
             "colorbar": {
              "outlinewidth": 0,
              "ticks": ""
             }
            },
            "type": "scattergeo"
           }
          ],
          "scattergl": [
           {
            "marker": {
             "colorbar": {
              "outlinewidth": 0,
              "ticks": ""
             }
            },
            "type": "scattergl"
           }
          ],
          "scattermapbox": [
           {
            "marker": {
             "colorbar": {
              "outlinewidth": 0,
              "ticks": ""
             }
            },
            "type": "scattermapbox"
           }
          ],
          "scatterpolar": [
           {
            "marker": {
             "colorbar": {
              "outlinewidth": 0,
              "ticks": ""
             }
            },
            "type": "scatterpolar"
           }
          ],
          "scatterpolargl": [
           {
            "marker": {
             "colorbar": {
              "outlinewidth": 0,
              "ticks": ""
             }
            },
            "type": "scatterpolargl"
           }
          ],
          "scatterternary": [
           {
            "marker": {
             "colorbar": {
              "outlinewidth": 0,
              "ticks": ""
             }
            },
            "type": "scatterternary"
           }
          ],
          "surface": [
           {
            "colorbar": {
             "outlinewidth": 0,
             "ticks": ""
            },
            "colorscale": [
             [
              0,
              "#0d0887"
             ],
             [
              0.1111111111111111,
              "#46039f"
             ],
             [
              0.2222222222222222,
              "#7201a8"
             ],
             [
              0.3333333333333333,
              "#9c179e"
             ],
             [
              0.4444444444444444,
              "#bd3786"
             ],
             [
              0.5555555555555556,
              "#d8576b"
             ],
             [
              0.6666666666666666,
              "#ed7953"
             ],
             [
              0.7777777777777778,
              "#fb9f3a"
             ],
             [
              0.8888888888888888,
              "#fdca26"
             ],
             [
              1,
              "#f0f921"
             ]
            ],
            "type": "surface"
           }
          ],
          "table": [
           {
            "cells": {
             "fill": {
              "color": "#EBF0F8"
             },
             "line": {
              "color": "white"
             }
            },
            "header": {
             "fill": {
              "color": "#C8D4E3"
             },
             "line": {
              "color": "white"
             }
            },
            "type": "table"
           }
          ]
         },
         "layout": {
          "annotationdefaults": {
           "arrowcolor": "#2a3f5f",
           "arrowhead": 0,
           "arrowwidth": 1
          },
          "autotypenumbers": "strict",
          "coloraxis": {
           "colorbar": {
            "outlinewidth": 0,
            "ticks": ""
           }
          },
          "colorscale": {
           "diverging": [
            [
             0,
             "#8e0152"
            ],
            [
             0.1,
             "#c51b7d"
            ],
            [
             0.2,
             "#de77ae"
            ],
            [
             0.3,
             "#f1b6da"
            ],
            [
             0.4,
             "#fde0ef"
            ],
            [
             0.5,
             "#f7f7f7"
            ],
            [
             0.6,
             "#e6f5d0"
            ],
            [
             0.7,
             "#b8e186"
            ],
            [
             0.8,
             "#7fbc41"
            ],
            [
             0.9,
             "#4d9221"
            ],
            [
             1,
             "#276419"
            ]
           ],
           "sequential": [
            [
             0,
             "#0d0887"
            ],
            [
             0.1111111111111111,
             "#46039f"
            ],
            [
             0.2222222222222222,
             "#7201a8"
            ],
            [
             0.3333333333333333,
             "#9c179e"
            ],
            [
             0.4444444444444444,
             "#bd3786"
            ],
            [
             0.5555555555555556,
             "#d8576b"
            ],
            [
             0.6666666666666666,
             "#ed7953"
            ],
            [
             0.7777777777777778,
             "#fb9f3a"
            ],
            [
             0.8888888888888888,
             "#fdca26"
            ],
            [
             1,
             "#f0f921"
            ]
           ],
           "sequentialminus": [
            [
             0,
             "#0d0887"
            ],
            [
             0.1111111111111111,
             "#46039f"
            ],
            [
             0.2222222222222222,
             "#7201a8"
            ],
            [
             0.3333333333333333,
             "#9c179e"
            ],
            [
             0.4444444444444444,
             "#bd3786"
            ],
            [
             0.5555555555555556,
             "#d8576b"
            ],
            [
             0.6666666666666666,
             "#ed7953"
            ],
            [
             0.7777777777777778,
             "#fb9f3a"
            ],
            [
             0.8888888888888888,
             "#fdca26"
            ],
            [
             1,
             "#f0f921"
            ]
           ]
          },
          "colorway": [
           "#636efa",
           "#EF553B",
           "#00cc96",
           "#ab63fa",
           "#FFA15A",
           "#19d3f3",
           "#FF6692",
           "#B6E880",
           "#FF97FF",
           "#FECB52"
          ],
          "font": {
           "color": "#2a3f5f"
          },
          "geo": {
           "bgcolor": "white",
           "lakecolor": "white",
           "landcolor": "#E5ECF6",
           "showlakes": true,
           "showland": true,
           "subunitcolor": "white"
          },
          "hoverlabel": {
           "align": "left"
          },
          "hovermode": "closest",
          "mapbox": {
           "style": "light"
          },
          "paper_bgcolor": "white",
          "plot_bgcolor": "#E5ECF6",
          "polar": {
           "angularaxis": {
            "gridcolor": "white",
            "linecolor": "white",
            "ticks": ""
           },
           "bgcolor": "#E5ECF6",
           "radialaxis": {
            "gridcolor": "white",
            "linecolor": "white",
            "ticks": ""
           }
          },
          "scene": {
           "xaxis": {
            "backgroundcolor": "#E5ECF6",
            "gridcolor": "white",
            "gridwidth": 2,
            "linecolor": "white",
            "showbackground": true,
            "ticks": "",
            "zerolinecolor": "white"
           },
           "yaxis": {
            "backgroundcolor": "#E5ECF6",
            "gridcolor": "white",
            "gridwidth": 2,
            "linecolor": "white",
            "showbackground": true,
            "ticks": "",
            "zerolinecolor": "white"
           },
           "zaxis": {
            "backgroundcolor": "#E5ECF6",
            "gridcolor": "white",
            "gridwidth": 2,
            "linecolor": "white",
            "showbackground": true,
            "ticks": "",
            "zerolinecolor": "white"
           }
          },
          "shapedefaults": {
           "line": {
            "color": "#2a3f5f"
           }
          },
          "ternary": {
           "aaxis": {
            "gridcolor": "white",
            "linecolor": "white",
            "ticks": ""
           },
           "baxis": {
            "gridcolor": "white",
            "linecolor": "white",
            "ticks": ""
           },
           "bgcolor": "#E5ECF6",
           "caxis": {
            "gridcolor": "white",
            "linecolor": "white",
            "ticks": ""
           }
          },
          "title": {
           "x": 0.05
          },
          "xaxis": {
           "automargin": true,
           "gridcolor": "white",
           "linecolor": "white",
           "ticks": "",
           "title": {
            "standoff": 15
           },
           "zerolinecolor": "white",
           "zerolinewidth": 2
          },
          "yaxis": {
           "automargin": true,
           "gridcolor": "white",
           "linecolor": "white",
           "ticks": "",
           "title": {
            "standoff": 15
           },
           "zerolinecolor": "white",
           "zerolinewidth": 2
          }
         }
        },
        "title": {
         "text": "Maize "
        }
       }
      },
      "text/html": [
       "<div>                            <div id=\"9ca9b9b2-ebfb-4cee-adc2-10ea41704165\" class=\"plotly-graph-div\" style=\"height:525px; width:100%;\"></div>            <script type=\"text/javascript\">                require([\"plotly\"], function(Plotly) {                    window.PLOTLYENV=window.PLOTLYENV || {};                                    if (document.getElementById(\"9ca9b9b2-ebfb-4cee-adc2-10ea41704165\")) {                    Plotly.newPlot(                        \"9ca9b9b2-ebfb-4cee-adc2-10ea41704165\",                        [{\"coloraxis\":\"coloraxis\",\"geo\":\"geo\",\"hovertemplate\":\"iso3=%{location}<br>maize=%{z}<extra></extra>\",\"locations\":[\"AGO\",\"BEN\",\"BWA\",\"BFA\",\"BDI\",\"CMR\",\"TCD\",\"COM\",\"COD\",\"COG\",\"CIV\",\"DJI\",\"GNQ\",\"ERI\",\"SWZ\",\"GAB\",\"GHA\",\"GIN\",\"KEN\",\"LSO\",\"LBR\",\"MDG\",\"MWI\",\"MOZ\",\"NAM\",\"NGA\",\"RWA\",\"STP\",\"SEN\",\"SYC\",\"SSD\",\"SDN\",\"TZA\",\"TGO\",\"ZMB\",\"ZWE\",\"GNB\",\"MLI\",\"SOM\"],\"name\":\"\",\"z\":[10836.0,12064.0,7980.0,17238.0,15556.0,17705.0,11236.0,20378.0,7726.0,10000.0,21974.0,20004.0,17971.217391304348,10000.0,14286.0,15629.0,26923.0,14500.0,15231.0,7838.0,17971.217391304348,18386.0,26177.0,11230.0,19941.0,21242.0,15216.0,20065.0,26429.0,17971.217391304348,8447.0,7779.0,15998.0,12387.0,25674.0,15344.0,8260.0,23454.0,7500.0],\"type\":\"choropleth\"}],                        {\"template\":{\"data\":{\"histogram2dcontour\":[{\"type\":\"histogram2dcontour\",\"colorbar\":{\"outlinewidth\":0,\"ticks\":\"\"},\"colorscale\":[[0.0,\"#0d0887\"],[0.1111111111111111,\"#46039f\"],[0.2222222222222222,\"#7201a8\"],[0.3333333333333333,\"#9c179e\"],[0.4444444444444444,\"#bd3786\"],[0.5555555555555556,\"#d8576b\"],[0.6666666666666666,\"#ed7953\"],[0.7777777777777778,\"#fb9f3a\"],[0.8888888888888888,\"#fdca26\"],[1.0,\"#f0f921\"]]}],\"choropleth\":[{\"type\":\"choropleth\",\"colorbar\":{\"outlinewidth\":0,\"ticks\":\"\"}}],\"histogram2d\":[{\"type\":\"histogram2d\",\"colorbar\":{\"outlinewidth\":0,\"ticks\":\"\"},\"colorscale\":[[0.0,\"#0d0887\"],[0.1111111111111111,\"#46039f\"],[0.2222222222222222,\"#7201a8\"],[0.3333333333333333,\"#9c179e\"],[0.4444444444444444,\"#bd3786\"],[0.5555555555555556,\"#d8576b\"],[0.6666666666666666,\"#ed7953\"],[0.7777777777777778,\"#fb9f3a\"],[0.8888888888888888,\"#fdca26\"],[1.0,\"#f0f921\"]]}],\"heatmap\":[{\"type\":\"heatmap\",\"colorbar\":{\"outlinewidth\":0,\"ticks\":\"\"},\"colorscale\":[[0.0,\"#0d0887\"],[0.1111111111111111,\"#46039f\"],[0.2222222222222222,\"#7201a8\"],[0.3333333333333333,\"#9c179e\"],[0.4444444444444444,\"#bd3786\"],[0.5555555555555556,\"#d8576b\"],[0.6666666666666666,\"#ed7953\"],[0.7777777777777778,\"#fb9f3a\"],[0.8888888888888888,\"#fdca26\"],[1.0,\"#f0f921\"]]}],\"heatmapgl\":[{\"type\":\"heatmapgl\",\"colorbar\":{\"outlinewidth\":0,\"ticks\":\"\"},\"colorscale\":[[0.0,\"#0d0887\"],[0.1111111111111111,\"#46039f\"],[0.2222222222222222,\"#7201a8\"],[0.3333333333333333,\"#9c179e\"],[0.4444444444444444,\"#bd3786\"],[0.5555555555555556,\"#d8576b\"],[0.6666666666666666,\"#ed7953\"],[0.7777777777777778,\"#fb9f3a\"],[0.8888888888888888,\"#fdca26\"],[1.0,\"#f0f921\"]]}],\"contourcarpet\":[{\"type\":\"contourcarpet\",\"colorbar\":{\"outlinewidth\":0,\"ticks\":\"\"}}],\"contour\":[{\"type\":\"contour\",\"colorbar\":{\"outlinewidth\":0,\"ticks\":\"\"},\"colorscale\":[[0.0,\"#0d0887\"],[0.1111111111111111,\"#46039f\"],[0.2222222222222222,\"#7201a8\"],[0.3333333333333333,\"#9c179e\"],[0.4444444444444444,\"#bd3786\"],[0.5555555555555556,\"#d8576b\"],[0.6666666666666666,\"#ed7953\"],[0.7777777777777778,\"#fb9f3a\"],[0.8888888888888888,\"#fdca26\"],[1.0,\"#f0f921\"]]}],\"surface\":[{\"type\":\"surface\",\"colorbar\":{\"outlinewidth\":0,\"ticks\":\"\"},\"colorscale\":[[0.0,\"#0d0887\"],[0.1111111111111111,\"#46039f\"],[0.2222222222222222,\"#7201a8\"],[0.3333333333333333,\"#9c179e\"],[0.4444444444444444,\"#bd3786\"],[0.5555555555555556,\"#d8576b\"],[0.6666666666666666,\"#ed7953\"],[0.7777777777777778,\"#fb9f3a\"],[0.8888888888888888,\"#fdca26\"],[1.0,\"#f0f921\"]]}],\"mesh3d\":[{\"type\":\"mesh3d\",\"colorbar\":{\"outlinewidth\":0,\"ticks\":\"\"}}],\"scatter\":[{\"fillpattern\":{\"fillmode\":\"overlay\",\"size\":10,\"solidity\":0.2},\"type\":\"scatter\"}],\"parcoords\":[{\"type\":\"parcoords\",\"line\":{\"colorbar\":{\"outlinewidth\":0,\"ticks\":\"\"}}}],\"scatterpolargl\":[{\"type\":\"scatterpolargl\",\"marker\":{\"colorbar\":{\"outlinewidth\":0,\"ticks\":\"\"}}}],\"bar\":[{\"error_x\":{\"color\":\"#2a3f5f\"},\"error_y\":{\"color\":\"#2a3f5f\"},\"marker\":{\"line\":{\"color\":\"#E5ECF6\",\"width\":0.5},\"pattern\":{\"fillmode\":\"overlay\",\"size\":10,\"solidity\":0.2}},\"type\":\"bar\"}],\"scattergeo\":[{\"type\":\"scattergeo\",\"marker\":{\"colorbar\":{\"outlinewidth\":0,\"ticks\":\"\"}}}],\"scatterpolar\":[{\"type\":\"scatterpolar\",\"marker\":{\"colorbar\":{\"outlinewidth\":0,\"ticks\":\"\"}}}],\"histogram\":[{\"marker\":{\"pattern\":{\"fillmode\":\"overlay\",\"size\":10,\"solidity\":0.2}},\"type\":\"histogram\"}],\"scattergl\":[{\"type\":\"scattergl\",\"marker\":{\"colorbar\":{\"outlinewidth\":0,\"ticks\":\"\"}}}],\"scatter3d\":[{\"type\":\"scatter3d\",\"line\":{\"colorbar\":{\"outlinewidth\":0,\"ticks\":\"\"}},\"marker\":{\"colorbar\":{\"outlinewidth\":0,\"ticks\":\"\"}}}],\"scattermapbox\":[{\"type\":\"scattermapbox\",\"marker\":{\"colorbar\":{\"outlinewidth\":0,\"ticks\":\"\"}}}],\"scatterternary\":[{\"type\":\"scatterternary\",\"marker\":{\"colorbar\":{\"outlinewidth\":0,\"ticks\":\"\"}}}],\"scattercarpet\":[{\"type\":\"scattercarpet\",\"marker\":{\"colorbar\":{\"outlinewidth\":0,\"ticks\":\"\"}}}],\"carpet\":[{\"aaxis\":{\"endlinecolor\":\"#2a3f5f\",\"gridcolor\":\"white\",\"linecolor\":\"white\",\"minorgridcolor\":\"white\",\"startlinecolor\":\"#2a3f5f\"},\"baxis\":{\"endlinecolor\":\"#2a3f5f\",\"gridcolor\":\"white\",\"linecolor\":\"white\",\"minorgridcolor\":\"white\",\"startlinecolor\":\"#2a3f5f\"},\"type\":\"carpet\"}],\"table\":[{\"cells\":{\"fill\":{\"color\":\"#EBF0F8\"},\"line\":{\"color\":\"white\"}},\"header\":{\"fill\":{\"color\":\"#C8D4E3\"},\"line\":{\"color\":\"white\"}},\"type\":\"table\"}],\"barpolar\":[{\"marker\":{\"line\":{\"color\":\"#E5ECF6\",\"width\":0.5},\"pattern\":{\"fillmode\":\"overlay\",\"size\":10,\"solidity\":0.2}},\"type\":\"barpolar\"}],\"pie\":[{\"automargin\":true,\"type\":\"pie\"}]},\"layout\":{\"autotypenumbers\":\"strict\",\"colorway\":[\"#636efa\",\"#EF553B\",\"#00cc96\",\"#ab63fa\",\"#FFA15A\",\"#19d3f3\",\"#FF6692\",\"#B6E880\",\"#FF97FF\",\"#FECB52\"],\"font\":{\"color\":\"#2a3f5f\"},\"hovermode\":\"closest\",\"hoverlabel\":{\"align\":\"left\"},\"paper_bgcolor\":\"white\",\"plot_bgcolor\":\"#E5ECF6\",\"polar\":{\"bgcolor\":\"#E5ECF6\",\"angularaxis\":{\"gridcolor\":\"white\",\"linecolor\":\"white\",\"ticks\":\"\"},\"radialaxis\":{\"gridcolor\":\"white\",\"linecolor\":\"white\",\"ticks\":\"\"}},\"ternary\":{\"bgcolor\":\"#E5ECF6\",\"aaxis\":{\"gridcolor\":\"white\",\"linecolor\":\"white\",\"ticks\":\"\"},\"baxis\":{\"gridcolor\":\"white\",\"linecolor\":\"white\",\"ticks\":\"\"},\"caxis\":{\"gridcolor\":\"white\",\"linecolor\":\"white\",\"ticks\":\"\"}},\"coloraxis\":{\"colorbar\":{\"outlinewidth\":0,\"ticks\":\"\"}},\"colorscale\":{\"sequential\":[[0.0,\"#0d0887\"],[0.1111111111111111,\"#46039f\"],[0.2222222222222222,\"#7201a8\"],[0.3333333333333333,\"#9c179e\"],[0.4444444444444444,\"#bd3786\"],[0.5555555555555556,\"#d8576b\"],[0.6666666666666666,\"#ed7953\"],[0.7777777777777778,\"#fb9f3a\"],[0.8888888888888888,\"#fdca26\"],[1.0,\"#f0f921\"]],\"sequentialminus\":[[0.0,\"#0d0887\"],[0.1111111111111111,\"#46039f\"],[0.2222222222222222,\"#7201a8\"],[0.3333333333333333,\"#9c179e\"],[0.4444444444444444,\"#bd3786\"],[0.5555555555555556,\"#d8576b\"],[0.6666666666666666,\"#ed7953\"],[0.7777777777777778,\"#fb9f3a\"],[0.8888888888888888,\"#fdca26\"],[1.0,\"#f0f921\"]],\"diverging\":[[0,\"#8e0152\"],[0.1,\"#c51b7d\"],[0.2,\"#de77ae\"],[0.3,\"#f1b6da\"],[0.4,\"#fde0ef\"],[0.5,\"#f7f7f7\"],[0.6,\"#e6f5d0\"],[0.7,\"#b8e186\"],[0.8,\"#7fbc41\"],[0.9,\"#4d9221\"],[1,\"#276419\"]]},\"xaxis\":{\"gridcolor\":\"white\",\"linecolor\":\"white\",\"ticks\":\"\",\"title\":{\"standoff\":15},\"zerolinecolor\":\"white\",\"automargin\":true,\"zerolinewidth\":2},\"yaxis\":{\"gridcolor\":\"white\",\"linecolor\":\"white\",\"ticks\":\"\",\"title\":{\"standoff\":15},\"zerolinecolor\":\"white\",\"automargin\":true,\"zerolinewidth\":2},\"scene\":{\"xaxis\":{\"backgroundcolor\":\"#E5ECF6\",\"gridcolor\":\"white\",\"linecolor\":\"white\",\"showbackground\":true,\"ticks\":\"\",\"zerolinecolor\":\"white\",\"gridwidth\":2},\"yaxis\":{\"backgroundcolor\":\"#E5ECF6\",\"gridcolor\":\"white\",\"linecolor\":\"white\",\"showbackground\":true,\"ticks\":\"\",\"zerolinecolor\":\"white\",\"gridwidth\":2},\"zaxis\":{\"backgroundcolor\":\"#E5ECF6\",\"gridcolor\":\"white\",\"linecolor\":\"white\",\"showbackground\":true,\"ticks\":\"\",\"zerolinecolor\":\"white\",\"gridwidth\":2}},\"shapedefaults\":{\"line\":{\"color\":\"#2a3f5f\"}},\"annotationdefaults\":{\"arrowcolor\":\"#2a3f5f\",\"arrowhead\":0,\"arrowwidth\":1},\"geo\":{\"bgcolor\":\"white\",\"landcolor\":\"#E5ECF6\",\"subunitcolor\":\"white\",\"showland\":true,\"showlakes\":true,\"lakecolor\":\"white\"},\"title\":{\"x\":0.05},\"mapbox\":{\"style\":\"light\"}}},\"geo\":{\"domain\":{\"x\":[0.0,1.0],\"y\":[0.0,1.0]},\"projection\":{\"type\":\"natural earth\"},\"center\":{}},\"coloraxis\":{\"colorbar\":{\"title\":{\"text\":\"maize\"}},\"colorscale\":[[0.0,\"rgb(255,245,235)\"],[0.125,\"rgb(254,230,206)\"],[0.25,\"rgb(253,208,162)\"],[0.375,\"rgb(253,174,107)\"],[0.5,\"rgb(253,141,60)\"],[0.625,\"rgb(241,105,19)\"],[0.75,\"rgb(217,72,1)\"],[0.875,\"rgb(166,54,3)\"],[1.0,\"rgb(127,39,4)\"]]},\"legend\":{\"tracegroupgap\":0},\"title\":{\"text\":\"Maize \"}},                        {\"responsive\": true}                    ).then(function(){\n",
       "                            \n",
       "var gd = document.getElementById('9ca9b9b2-ebfb-4cee-adc2-10ea41704165');\n",
       "var x = new MutationObserver(function (mutations, observer) {{\n",
       "        var display = window.getComputedStyle(gd).display;\n",
       "        if (!display || display === 'none') {{\n",
       "            console.log([gd, 'removed!']);\n",
       "            Plotly.purge(gd);\n",
       "            observer.disconnect();\n",
       "        }}\n",
       "}});\n",
       "\n",
       "// Listen for the removal of the full notebook cells\n",
       "var notebookContainer = gd.closest('#notebook-container');\n",
       "if (notebookContainer) {{\n",
       "    x.observe(notebookContainer, {childList: true});\n",
       "}}\n",
       "\n",
       "// Listen for the clearing of the current output cell\n",
       "var outputEl = gd.closest('.output');\n",
       "if (outputEl) {{\n",
       "    x.observe(outputEl, {childList: true});\n",
       "}}\n",
       "\n",
       "                        })                };                });            </script>        </div>"
      ]
     },
     "metadata": {},
     "output_type": "display_data"
    }
   ],
   "source": [
    "def build_nat_choropleth():\n",
    "    fig = px.choropleth(\n",
    "        data_frame=df,\n",
    "        locations=\"iso3\",\n",
    "        color=\"maize\",\n",
    "        projection=\"natural earth\",\n",
    "        color_continuous_scale=px.colors.sequential.Oranges,\n",
    "        title=\"Maize \"\n",
    "        \n",
    "    )\n",
    "    return fig\n",
    "nat_fig = build_nat_choropleth()\n",
    "print(\"nat_fig type:\", type(nat_fig))\n",
    "nat_fig.show()"
   ]
  },
  {
   "cell_type": "code",
   "execution_count": 295,
   "id": "f29976cf",
   "metadata": {},
   "outputs": [],
   "source": [
    "#plt.figure(figsize=(10,10))\n",
    "#for i,feature in enumerate(features):\n",
    "#    plt.subplot(2,3,i+1)\n",
    "#    sns.boxplot(x=data[feature])\n",
    " #   plt.title(feature);"
   ]
  },
  {
   "cell_type": "code",
   "execution_count": 58,
   "id": "33191315",
   "metadata": {},
   "outputs": [],
   "source": [
    "#sns.pairplot(df[['maize','feat1','feat2','feat3','feat4','feat5','feat6','feat7','feat8','feat9','feat10','feat11']],diag_kind = 'kde');"
   ]
  },
  {
   "cell_type": "code",
   "execution_count": 491,
   "id": "7d55e7c6",
   "metadata": {},
   "outputs": [],
   "source": [
    "df2=df.copy()"
   ]
  },
  {
   "cell_type": "code",
   "execution_count": 492,
   "id": "4a4724c2",
   "metadata": {},
   "outputs": [],
   "source": [
    "df2=df2.set_index('iso3')"
   ]
  },
  {
   "cell_type": "code",
   "execution_count": null,
   "id": "14f3707c",
   "metadata": {},
   "outputs": [],
   "source": [
    "# Chech the outliers"
   ]
  },
  {
   "cell_type": "code",
   "execution_count": 493,
   "id": "43a1baba",
   "metadata": {},
   "outputs": [
    {
     "data": {
      "image/png": "[encoded data removed]",
      "text/plain": [
       "<Figure size 1000x1000 with 12 Axes>"
      ]
     },
     "metadata": {},
     "output_type": "display_data"
    }
   ],
   "source": [
    "plt.figure(figsize=(10,10))\n",
    "for i,feature in enumerate(df2):\n",
    "    plt.subplot(2,6,i+1)\n",
    "    sns.boxplot(x=df2[feature])\n",
    "    plt.title(feature);"
   ]
  },
  {
   "cell_type": "code",
   "execution_count": 494,
   "id": "2a7c918d",
   "metadata": {},
   "outputs": [
    {
     "data": {
      "image/png": "[encoded data removed]",
      "text/plain": [
       "<Figure size 1000x1000 with 12 Axes>"
      ]
     },
     "metadata": {},
     "output_type": "display_data"
    }
   ],
   "source": [
    "plt.figure(figsize=(10,10))\n",
    "for i,feature in enumerate(df2):\n",
    "    plt.subplot(2,6,i+1)\n",
    "    sns.distplot(x=df2[feature])\n",
    "    plt.title(feature);"
   ]
  },
  {
   "cell_type": "code",
   "execution_count": 268,
   "id": "0d4cab0d",
   "metadata": {},
   "outputs": [],
   "source": [
    "#df2.drop(columns=('iso3'),inplace=True)"
   ]
  },
  {
   "cell_type": "code",
   "execution_count": null,
   "id": "28226ee8",
   "metadata": {},
   "outputs": [],
   "source": []
  },
  {
   "cell_type": "code",
   "execution_count": 495,
   "id": "0b7359a6",
   "metadata": {},
   "outputs": [
    {
     "data": {
      "text/html": [
       "<div>\n",
       "<style scoped>\n",
       "    .dataframe tbody tr th:only-of-type {\n",
       "        vertical-align: middle;\n",
       "    }\n",
       "\n",
       "    .dataframe tbody tr th {\n",
       "        vertical-align: top;\n",
       "    }\n",
       "\n",
       "    .dataframe thead th {\n",
       "        text-align: right;\n",
       "    }\n",
       "</style>\n",
       "<table border=\"1\" class=\"dataframe\">\n",
       "  <thead>\n",
       "    <tr style=\"text-align: right;\">\n",
       "      <th></th>\n",
       "      <th>maize</th>\n",
       "      <th>feat1</th>\n",
       "      <th>feat2</th>\n",
       "      <th>feat3</th>\n",
       "      <th>feat4</th>\n",
       "      <th>feat5</th>\n",
       "      <th>feat6</th>\n",
       "      <th>feat7</th>\n",
       "      <th>feat8</th>\n",
       "      <th>feat9</th>\n",
       "      <th>feat10</th>\n",
       "      <th>feat11</th>\n",
       "    </tr>\n",
       "    <tr>\n",
       "      <th>iso3</th>\n",
       "      <th></th>\n",
       "      <th></th>\n",
       "      <th></th>\n",
       "      <th></th>\n",
       "      <th></th>\n",
       "      <th></th>\n",
       "      <th></th>\n",
       "      <th></th>\n",
       "      <th></th>\n",
       "      <th></th>\n",
       "      <th></th>\n",
       "      <th></th>\n",
       "    </tr>\n",
       "  </thead>\n",
       "  <tbody>\n",
       "    <tr>\n",
       "      <th>AGO</th>\n",
       "      <td>10836.0</td>\n",
       "      <td>36.814791</td>\n",
       "      <td>458970.0</td>\n",
       "      <td>4.309778</td>\n",
       "      <td>0.155722</td>\n",
       "      <td>3.166030</td>\n",
       "      <td>51.794773</td>\n",
       "      <td>52.648165</td>\n",
       "      <td>52.226425</td>\n",
       "      <td>67.460</td>\n",
       "      <td>58.65716</td>\n",
       "      <td>65.73271</td>\n",
       "    </tr>\n",
       "    <tr>\n",
       "      <th>BEN</th>\n",
       "      <td>12064.0</td>\n",
       "      <td>35.030153</td>\n",
       "      <td>39500.0</td>\n",
       "      <td>24.831501</td>\n",
       "      <td>0.215436</td>\n",
       "      <td>2.759705</td>\n",
       "      <td>54.189234</td>\n",
       "      <td>54.502531</td>\n",
       "      <td>54.345611</td>\n",
       "      <td>48.972</td>\n",
       "      <td>28.14955</td>\n",
       "      <td>13.07583</td>\n",
       "    </tr>\n",
       "    <tr>\n",
       "      <th>BWA</th>\n",
       "      <td>7980.0</td>\n",
       "      <td>45.633723</td>\n",
       "      <td>258620.0</td>\n",
       "      <td>0.458772</td>\n",
       "      <td>0.100447</td>\n",
       "      <td>1.636743</td>\n",
       "      <td>63.295558</td>\n",
       "      <td>63.684988</td>\n",
       "      <td>63.492752</td>\n",
       "      <td>71.560</td>\n",
       "      <td>23.07407</td>\n",
       "      <td>16.44704</td>\n",
       "    </tr>\n",
       "    <tr>\n",
       "      <th>BFA</th>\n",
       "      <td>17238.0</td>\n",
       "      <td>46.564327</td>\n",
       "      <td>127400.0</td>\n",
       "      <td>22.295322</td>\n",
       "      <td>0.276010</td>\n",
       "      <td>2.650376</td>\n",
       "      <td>52.990508</td>\n",
       "      <td>53.730505</td>\n",
       "      <td>53.361834</td>\n",
       "      <td>31.240</td>\n",
       "      <td>73.26725</td>\n",
       "      <td>76.05038</td>\n",
       "    </tr>\n",
       "    <tr>\n",
       "      <th>BDI</th>\n",
       "      <td>15556.0</td>\n",
       "      <td>81.892523</td>\n",
       "      <td>21030.0</td>\n",
       "      <td>49.454829</td>\n",
       "      <td>0.101185</td>\n",
       "      <td>2.672478</td>\n",
       "      <td>50.990671</td>\n",
       "      <td>51.466715</td>\n",
       "      <td>51.230355</td>\n",
       "      <td>14.058</td>\n",
       "      <td>85.85030</td>\n",
       "      <td>93.65079</td>\n",
       "    </tr>\n",
       "  </tbody>\n",
       "</table>\n",
       "</div>"
      ],
      "text/plain": [
       "        maize      feat1     feat2      feat3     feat4     feat5      feat6  \\\n",
       "iso3                                                                           \n",
       "AGO   10836.0  36.814791  458970.0   4.309778  0.155722  3.166030  51.794773   \n",
       "BEN   12064.0  35.030153   39500.0  24.831501  0.215436  2.759705  54.189234   \n",
       "BWA    7980.0  45.633723  258620.0   0.458772  0.100447  1.636743  63.295558   \n",
       "BFA   17238.0  46.564327  127400.0  22.295322  0.276010  2.650376  52.990508   \n",
       "BDI   15556.0  81.892523   21030.0  49.454829  0.101185  2.672478  50.990671   \n",
       "\n",
       "          feat7      feat8   feat9    feat10    feat11  \n",
       "iso3                                                    \n",
       "AGO   52.648165  52.226425  67.460  58.65716  65.73271  \n",
       "BEN   54.502531  54.345611  48.972  28.14955  13.07583  \n",
       "BWA   63.684988  63.492752  71.560  23.07407  16.44704  \n",
       "BFA   53.730505  53.361834  31.240  73.26725  76.05038  \n",
       "BDI   51.466715  51.230355  14.058  85.85030  93.65079  "
      ]
     },
     "execution_count": 495,
     "metadata": {},
     "output_type": "execute_result"
    }
   ],
   "source": [
    "df2.head()"
   ]
  },
  {
   "cell_type": "markdown",
   "id": "b5a3e491",
   "metadata": {},
   "source": [
    "#### Future scaling"
   ]
  },
  {
   "cell_type": "markdown",
   "id": "47e366d4",
   "metadata": {},
   "source": [
    "> Create your feature matrix X_train and target vector y_train. Your target is **\"maize\"**. Your features should be all the columns that remain in the DataFrame you cleaned above."
   ]
  },
  {
   "cell_type": "code",
   "execution_count": 540,
   "id": "876d13d3",
   "metadata": {},
   "outputs": [],
   "source": [
    "X=df.drop(columns=('maize'))\n",
    "y=df['maize']"
   ]
  },
  {
   "cell_type": "code",
   "execution_count": 541,
   "id": "e51d324f",
   "metadata": {},
   "outputs": [],
   "source": [
    "scaler=StandardScaler()\n",
    "df2[['feat1','feat10','feat11','feat2','feat3','feat4','feat5','feat6','feat7','feat8','feat9','maize']]=scaler.fit_transform(\n",
    "    df2[['feat1','feat10','feat11','feat2','feat3','feat4','feat5','feat6','feat7','feat8','feat9','maize']])"
   ]
  },
  {
   "cell_type": "code",
   "execution_count": 542,
   "id": "ea85ad77",
   "metadata": {},
   "outputs": [
    {
     "data": {
      "text/html": [
       "<div>\n",
       "<style scoped>\n",
       "    .dataframe tbody tr th:only-of-type {\n",
       "        vertical-align: middle;\n",
       "    }\n",
       "\n",
       "    .dataframe tbody tr th {\n",
       "        vertical-align: top;\n",
       "    }\n",
       "\n",
       "    .dataframe thead th {\n",
       "        text-align: right;\n",
       "    }\n",
       "</style>\n",
       "<table border=\"1\" class=\"dataframe\">\n",
       "  <thead>\n",
       "    <tr style=\"text-align: right;\">\n",
       "      <th></th>\n",
       "      <th>iso3</th>\n",
       "      <th>maize</th>\n",
       "      <th>feat1</th>\n",
       "      <th>feat2</th>\n",
       "      <th>feat3</th>\n",
       "      <th>feat4</th>\n",
       "      <th>feat5</th>\n",
       "      <th>feat6</th>\n",
       "      <th>feat7</th>\n",
       "      <th>feat8</th>\n",
       "      <th>feat9</th>\n",
       "      <th>feat10</th>\n",
       "      <th>feat11</th>\n",
       "    </tr>\n",
       "  </thead>\n",
       "  <tbody>\n",
       "    <tr>\n",
       "      <th>0</th>\n",
       "      <td>AGO</td>\n",
       "      <td>10836.0</td>\n",
       "      <td>36.814791</td>\n",
       "      <td>458970.0</td>\n",
       "      <td>4.309778</td>\n",
       "      <td>0.155722</td>\n",
       "      <td>3.166030</td>\n",
       "      <td>51.794773</td>\n",
       "      <td>52.648165</td>\n",
       "      <td>52.226425</td>\n",
       "      <td>67.460</td>\n",
       "      <td>58.65716</td>\n",
       "      <td>65.73271</td>\n",
       "    </tr>\n",
       "    <tr>\n",
       "      <th>1</th>\n",
       "      <td>BEN</td>\n",
       "      <td>12064.0</td>\n",
       "      <td>35.030153</td>\n",
       "      <td>39500.0</td>\n",
       "      <td>24.831501</td>\n",
       "      <td>0.215436</td>\n",
       "      <td>2.759705</td>\n",
       "      <td>54.189234</td>\n",
       "      <td>54.502531</td>\n",
       "      <td>54.345611</td>\n",
       "      <td>48.972</td>\n",
       "      <td>28.14955</td>\n",
       "      <td>13.07583</td>\n",
       "    </tr>\n",
       "    <tr>\n",
       "      <th>2</th>\n",
       "      <td>BWA</td>\n",
       "      <td>7980.0</td>\n",
       "      <td>45.633723</td>\n",
       "      <td>258620.0</td>\n",
       "      <td>0.458772</td>\n",
       "      <td>0.100447</td>\n",
       "      <td>1.636743</td>\n",
       "      <td>63.295558</td>\n",
       "      <td>63.684988</td>\n",
       "      <td>63.492752</td>\n",
       "      <td>71.560</td>\n",
       "      <td>23.07407</td>\n",
       "      <td>16.44704</td>\n",
       "    </tr>\n",
       "    <tr>\n",
       "      <th>3</th>\n",
       "      <td>BFA</td>\n",
       "      <td>17238.0</td>\n",
       "      <td>46.564327</td>\n",
       "      <td>127400.0</td>\n",
       "      <td>22.295322</td>\n",
       "      <td>0.276010</td>\n",
       "      <td>2.650376</td>\n",
       "      <td>52.990508</td>\n",
       "      <td>53.730505</td>\n",
       "      <td>53.361834</td>\n",
       "      <td>31.240</td>\n",
       "      <td>73.26725</td>\n",
       "      <td>76.05038</td>\n",
       "    </tr>\n",
       "    <tr>\n",
       "      <th>4</th>\n",
       "      <td>BDI</td>\n",
       "      <td>15556.0</td>\n",
       "      <td>81.892523</td>\n",
       "      <td>21030.0</td>\n",
       "      <td>49.454829</td>\n",
       "      <td>0.101185</td>\n",
       "      <td>2.672478</td>\n",
       "      <td>50.990671</td>\n",
       "      <td>51.466715</td>\n",
       "      <td>51.230355</td>\n",
       "      <td>14.058</td>\n",
       "      <td>85.85030</td>\n",
       "      <td>93.65079</td>\n",
       "    </tr>\n",
       "  </tbody>\n",
       "</table>\n",
       "</div>"
      ],
      "text/plain": [
       "  iso3    maize      feat1     feat2      feat3     feat4     feat5  \\\n",
       "0  AGO  10836.0  36.814791  458970.0   4.309778  0.155722  3.166030   \n",
       "1  BEN  12064.0  35.030153   39500.0  24.831501  0.215436  2.759705   \n",
       "2  BWA   7980.0  45.633723  258620.0   0.458772  0.100447  1.636743   \n",
       "3  BFA  17238.0  46.564327  127400.0  22.295322  0.276010  2.650376   \n",
       "4  BDI  15556.0  81.892523   21030.0  49.454829  0.101185  2.672478   \n",
       "\n",
       "       feat6      feat7      feat8   feat9    feat10    feat11  \n",
       "0  51.794773  52.648165  52.226425  67.460  58.65716  65.73271  \n",
       "1  54.189234  54.502531  54.345611  48.972  28.14955  13.07583  \n",
       "2  63.295558  63.684988  63.492752  71.560  23.07407  16.44704  \n",
       "3  52.990508  53.730505  53.361834  31.240  73.26725  76.05038  \n",
       "4  50.990671  51.466715  51.230355  14.058  85.85030  93.65079  "
      ]
     },
     "execution_count": 542,
     "metadata": {},
     "output_type": "execute_result"
    }
   ],
   "source": [
    "df.head()"
   ]
  },
  {
   "cell_type": "markdown",
   "id": "d692bdc2",
   "metadata": {},
   "source": [
    "# LINEAR REGRESSION MODEL"
   ]
  },
  {
   "cell_type": "markdown",
   "id": "0972ee42",
   "metadata": {},
   "source": [
    "## Split data"
   ]
  },
  {
   "cell_type": "code",
   "execution_count": 543,
   "id": "9c0c03db",
   "metadata": {},
   "outputs": [],
   "source": [
    "target = \"maize\"\n",
    "features=['feat1','feat10','feat11','feat2','feat3','feat4','feat5','feat6','feat7','feat8','feat9','iso3']\n",
    "X_train =df[features]\n",
    "y_train=df[target]"
   ]
  },
  {
   "cell_type": "markdown",
   "id": "3a13148c",
   "metadata": {},
   "source": [
    "## Build te model"
   ]
  },
  {
   "cell_type": "markdown",
   "id": "46d976f5",
   "metadata": {},
   "source": [
    "### Baseline"
   ]
  },
  {
   "cell_type": "code",
   "execution_count": 544,
   "id": "231867e4",
   "metadata": {},
   "outputs": [
    {
     "name": "stdout",
     "output_type": "stream",
     "text": [
      "Mean apt price: 15757.61\n",
      "Baseline MAE: 4711.01\n"
     ]
    }
   ],
   "source": [
    "y_mean=y_train.mean()\n",
    "y_pred_baseline=[y_mean]*len(y_train)\n",
    "print(\"Mean apt price:\",round(y_mean,2))\n",
    "\n",
    "print(\"Baseline MAE:\", round(mean_absolute_error(y_train,y_pred_baseline),2))"
   ]
  },
  {
   "cell_type": "markdown",
   "id": "84bce85d",
   "metadata": {},
   "source": [
    "### Iteration"
   ]
  },
  {
   "cell_type": "markdown",
   "id": "2332e238",
   "metadata": {},
   "source": [
    "- Create a pipeline named model that contains a OneHotEncoder, SimpleImputer, and Ridge predictor."
   ]
  },
  {
   "cell_type": "code",
   "execution_count": 545,
   "id": "5c94399e",
   "metadata": {},
   "outputs": [],
   "source": [
    "model=LinearRegression()"
   ]
  },
  {
   "cell_type": "code",
   "execution_count": 546,
   "id": "f55a0dc8",
   "metadata": {},
   "outputs": [
    {
     "name": "stdout",
     "output_type": "stream",
     "text": [
      "(39, 50)\n"
     ]
    },
    {
     "data": {
      "text/html": [
       "<div>\n",
       "<style scoped>\n",
       "    .dataframe tbody tr th:only-of-type {\n",
       "        vertical-align: middle;\n",
       "    }\n",
       "\n",
       "    .dataframe tbody tr th {\n",
       "        vertical-align: top;\n",
       "    }\n",
       "\n",
       "    .dataframe thead th {\n",
       "        text-align: right;\n",
       "    }\n",
       "</style>\n",
       "<table border=\"1\" class=\"dataframe\">\n",
       "  <thead>\n",
       "    <tr style=\"text-align: right;\">\n",
       "      <th></th>\n",
       "      <th>feat1</th>\n",
       "      <th>feat10</th>\n",
       "      <th>feat11</th>\n",
       "      <th>feat2</th>\n",
       "      <th>feat3</th>\n",
       "      <th>feat4</th>\n",
       "      <th>feat5</th>\n",
       "      <th>feat6</th>\n",
       "      <th>feat7</th>\n",
       "      <th>feat8</th>\n",
       "      <th>...</th>\n",
       "      <th>iso3_SYC</th>\n",
       "      <th>iso3_SSD</th>\n",
       "      <th>iso3_SDN</th>\n",
       "      <th>iso3_TZA</th>\n",
       "      <th>iso3_TGO</th>\n",
       "      <th>iso3_ZMB</th>\n",
       "      <th>iso3_ZWE</th>\n",
       "      <th>iso3_GNB</th>\n",
       "      <th>iso3_MLI</th>\n",
       "      <th>iso3_SOM</th>\n",
       "    </tr>\n",
       "  </thead>\n",
       "  <tbody>\n",
       "    <tr>\n",
       "      <th>0</th>\n",
       "      <td>36.814791</td>\n",
       "      <td>58.65716</td>\n",
       "      <td>65.73271</td>\n",
       "      <td>458970.0</td>\n",
       "      <td>4.309778</td>\n",
       "      <td>0.155722</td>\n",
       "      <td>3.166030</td>\n",
       "      <td>51.794773</td>\n",
       "      <td>52.648165</td>\n",
       "      <td>52.226425</td>\n",
       "      <td>...</td>\n",
       "      <td>0</td>\n",
       "      <td>0</td>\n",
       "      <td>0</td>\n",
       "      <td>0</td>\n",
       "      <td>0</td>\n",
       "      <td>0</td>\n",
       "      <td>0</td>\n",
       "      <td>0</td>\n",
       "      <td>0</td>\n",
       "      <td>0</td>\n",
       "    </tr>\n",
       "    <tr>\n",
       "      <th>1</th>\n",
       "      <td>35.030153</td>\n",
       "      <td>28.14955</td>\n",
       "      <td>13.07583</td>\n",
       "      <td>39500.0</td>\n",
       "      <td>24.831501</td>\n",
       "      <td>0.215436</td>\n",
       "      <td>2.759705</td>\n",
       "      <td>54.189234</td>\n",
       "      <td>54.502531</td>\n",
       "      <td>54.345611</td>\n",
       "      <td>...</td>\n",
       "      <td>0</td>\n",
       "      <td>0</td>\n",
       "      <td>0</td>\n",
       "      <td>0</td>\n",
       "      <td>0</td>\n",
       "      <td>0</td>\n",
       "      <td>0</td>\n",
       "      <td>0</td>\n",
       "      <td>0</td>\n",
       "      <td>0</td>\n",
       "    </tr>\n",
       "    <tr>\n",
       "      <th>2</th>\n",
       "      <td>45.633723</td>\n",
       "      <td>23.07407</td>\n",
       "      <td>16.44704</td>\n",
       "      <td>258620.0</td>\n",
       "      <td>0.458772</td>\n",
       "      <td>0.100447</td>\n",
       "      <td>1.636743</td>\n",
       "      <td>63.295558</td>\n",
       "      <td>63.684988</td>\n",
       "      <td>63.492752</td>\n",
       "      <td>...</td>\n",
       "      <td>0</td>\n",
       "      <td>0</td>\n",
       "      <td>0</td>\n",
       "      <td>0</td>\n",
       "      <td>0</td>\n",
       "      <td>0</td>\n",
       "      <td>0</td>\n",
       "      <td>0</td>\n",
       "      <td>0</td>\n",
       "      <td>0</td>\n",
       "    </tr>\n",
       "    <tr>\n",
       "      <th>3</th>\n",
       "      <td>46.564327</td>\n",
       "      <td>73.26725</td>\n",
       "      <td>76.05038</td>\n",
       "      <td>127400.0</td>\n",
       "      <td>22.295322</td>\n",
       "      <td>0.276010</td>\n",
       "      <td>2.650376</td>\n",
       "      <td>52.990508</td>\n",
       "      <td>53.730505</td>\n",
       "      <td>53.361834</td>\n",
       "      <td>...</td>\n",
       "      <td>0</td>\n",
       "      <td>0</td>\n",
       "      <td>0</td>\n",
       "      <td>0</td>\n",
       "      <td>0</td>\n",
       "      <td>0</td>\n",
       "      <td>0</td>\n",
       "      <td>0</td>\n",
       "      <td>0</td>\n",
       "      <td>0</td>\n",
       "    </tr>\n",
       "    <tr>\n",
       "      <th>4</th>\n",
       "      <td>81.892523</td>\n",
       "      <td>85.85030</td>\n",
       "      <td>93.65079</td>\n",
       "      <td>21030.0</td>\n",
       "      <td>49.454829</td>\n",
       "      <td>0.101185</td>\n",
       "      <td>2.672478</td>\n",
       "      <td>50.990671</td>\n",
       "      <td>51.466715</td>\n",
       "      <td>51.230355</td>\n",
       "      <td>...</td>\n",
       "      <td>0</td>\n",
       "      <td>0</td>\n",
       "      <td>0</td>\n",
       "      <td>0</td>\n",
       "      <td>0</td>\n",
       "      <td>0</td>\n",
       "      <td>0</td>\n",
       "      <td>0</td>\n",
       "      <td>0</td>\n",
       "      <td>0</td>\n",
       "    </tr>\n",
       "  </tbody>\n",
       "</table>\n",
       "<p>5 rows × 50 columns</p>\n",
       "</div>"
      ],
      "text/plain": [
       "       feat1    feat10    feat11     feat2      feat3     feat4     feat5  \\\n",
       "0  36.814791  58.65716  65.73271  458970.0   4.309778  0.155722  3.166030   \n",
       "1  35.030153  28.14955  13.07583   39500.0  24.831501  0.215436  2.759705   \n",
       "2  45.633723  23.07407  16.44704  258620.0   0.458772  0.100447  1.636743   \n",
       "3  46.564327  73.26725  76.05038  127400.0  22.295322  0.276010  2.650376   \n",
       "4  81.892523  85.85030  93.65079   21030.0  49.454829  0.101185  2.672478   \n",
       "\n",
       "       feat6      feat7      feat8  ...  iso3_SYC  iso3_SSD  iso3_SDN  \\\n",
       "0  51.794773  52.648165  52.226425  ...         0         0         0   \n",
       "1  54.189234  54.502531  54.345611  ...         0         0         0   \n",
       "2  63.295558  63.684988  63.492752  ...         0         0         0   \n",
       "3  52.990508  53.730505  53.361834  ...         0         0         0   \n",
       "4  50.990671  51.466715  51.230355  ...         0         0         0   \n",
       "\n",
       "   iso3_TZA  iso3_TGO  iso3_ZMB  iso3_ZWE  iso3_GNB  iso3_MLI  iso3_SOM  \n",
       "0         0         0         0         0         0         0         0  \n",
       "1         0         0         0         0         0         0         0  \n",
       "2         0         0         0         0         0         0         0  \n",
       "3         0         0         0         0         0         0         0  \n",
       "4         0         0         0         0         0         0         0  \n",
       "\n",
       "[5 rows x 50 columns]"
      ]
     },
     "execution_count": 546,
     "metadata": {},
     "output_type": "execute_result"
    }
   ],
   "source": [
    "# make insistiation\n",
    "ohe=OneHotEncoder(use_cat_names=True)\n",
    "#fit ohe\n",
    "ohe.fit(X_train)\n",
    "#Transform\n",
    "XT_train=ohe.transform(X_train)\n",
    "print(XT_train.shape)\n",
    "XT_train.head()"
   ]
  },
  {
   "cell_type": "code",
   "execution_count": 547,
   "id": "de85d64e",
   "metadata": {},
   "outputs": [],
   "source": [
    "imputer=SimpleImputer()"
   ]
  },
  {
   "cell_type": "code",
   "execution_count": 548,
   "id": "1abdc774",
   "metadata": {},
   "outputs": [
    {
     "data": {
      "text/html": [
       "<style>#sk-container-id-2 {color: black;background-color: white;}#sk-container-id-2 pre{padding: 0;}#sk-container-id-2 div.sk-toggleable {background-color: white;}#sk-container-id-2 label.sk-toggleable__label {cursor: pointer;display: block;width: 100%;margin-bottom: 0;padding: 0.3em;box-sizing: border-box;text-align: center;}#sk-container-id-2 label.sk-toggleable__label-arrow:before {content: \"▸\";float: left;margin-right: 0.25em;color: #696969;}#sk-container-id-2 label.sk-toggleable__label-arrow:hover:before {color: black;}#sk-container-id-2 div.sk-estimator:hover label.sk-toggleable__label-arrow:before {color: black;}#sk-container-id-2 div.sk-toggleable__content {max-height: 0;max-width: 0;overflow: hidden;text-align: left;background-color: #f0f8ff;}#sk-container-id-2 div.sk-toggleable__content pre {margin: 0.2em;color: black;border-radius: 0.25em;background-color: #f0f8ff;}#sk-container-id-2 input.sk-toggleable__control:checked~div.sk-toggleable__content {max-height: 200px;max-width: 100%;overflow: auto;}#sk-container-id-2 input.sk-toggleable__control:checked~label.sk-toggleable__label-arrow:before {content: \"▾\";}#sk-container-id-2 div.sk-estimator input.sk-toggleable__control:checked~label.sk-toggleable__label {background-color: #d4ebff;}#sk-container-id-2 div.sk-label input.sk-toggleable__control:checked~label.sk-toggleable__label {background-color: #d4ebff;}#sk-container-id-2 input.sk-hidden--visually {border: 0;clip: rect(1px 1px 1px 1px);clip: rect(1px, 1px, 1px, 1px);height: 1px;margin: -1px;overflow: hidden;padding: 0;position: absolute;width: 1px;}#sk-container-id-2 div.sk-estimator {font-family: monospace;background-color: #f0f8ff;border: 1px dotted black;border-radius: 0.25em;box-sizing: border-box;margin-bottom: 0.5em;}#sk-container-id-2 div.sk-estimator:hover {background-color: #d4ebff;}#sk-container-id-2 div.sk-parallel-item::after {content: \"\";width: 100%;border-bottom: 1px solid gray;flex-grow: 1;}#sk-container-id-2 div.sk-label:hover label.sk-toggleable__label {background-color: #d4ebff;}#sk-container-id-2 div.sk-serial::before {content: \"\";position: absolute;border-left: 1px solid gray;box-sizing: border-box;top: 0;bottom: 0;left: 50%;z-index: 0;}#sk-container-id-2 div.sk-serial {display: flex;flex-direction: column;align-items: center;background-color: white;padding-right: 0.2em;padding-left: 0.2em;position: relative;}#sk-container-id-2 div.sk-item {position: relative;z-index: 1;}#sk-container-id-2 div.sk-parallel {display: flex;align-items: stretch;justify-content: center;background-color: white;position: relative;}#sk-container-id-2 div.sk-item::before, #sk-container-id-2 div.sk-parallel-item::before {content: \"\";position: absolute;border-left: 1px solid gray;box-sizing: border-box;top: 0;bottom: 0;left: 50%;z-index: -1;}#sk-container-id-2 div.sk-parallel-item {display: flex;flex-direction: column;z-index: 1;position: relative;background-color: white;}#sk-container-id-2 div.sk-parallel-item:first-child::after {align-self: flex-end;width: 50%;}#sk-container-id-2 div.sk-parallel-item:last-child::after {align-self: flex-start;width: 50%;}#sk-container-id-2 div.sk-parallel-item:only-child::after {width: 0;}#sk-container-id-2 div.sk-dashed-wrapped {border: 1px dashed gray;margin: 0 0.4em 0.5em 0.4em;box-sizing: border-box;padding-bottom: 0.4em;background-color: white;}#sk-container-id-2 div.sk-label label {font-family: monospace;font-weight: bold;display: inline-block;line-height: 1.2em;}#sk-container-id-2 div.sk-label-container {text-align: center;}#sk-container-id-2 div.sk-container {/* jupyter's `normalize.less` sets `[hidden] { display: none; }` but bootstrap.min.css set `[hidden] { display: none !important; }` so we also need the `!important` here to be able to override the default hidden behavior on the sphinx rendered scikit-learn.org. See: https://github.com/scikit-learn/scikit-learn/issues/21755 */display: inline-block !important;position: relative;}#sk-container-id-2 div.sk-text-repr-fallback {display: none;}</style><div id=\"sk-container-id-2\" class=\"sk-top-container\"><div class=\"sk-text-repr-fallback\"><pre>Pipeline(steps=[(&#x27;onehotencoder&#x27;,\n",
       "                 OneHotEncoder(cols=[&#x27;iso3&#x27;], use_cat_names=True)),\n",
       "                (&#x27;simpleimputer&#x27;, SimpleImputer()), (&#x27;ridge&#x27;, Ridge())])</pre><b>In a Jupyter environment, please rerun this cell to show the HTML representation or trust the notebook. <br />On GitHub, the HTML representation is unable to render, please try loading this page with nbviewer.org.</b></div><div class=\"sk-container\" hidden><div class=\"sk-item sk-dashed-wrapped\"><div class=\"sk-label-container\"><div class=\"sk-label sk-toggleable\"><input class=\"sk-toggleable__control sk-hidden--visually\" id=\"sk-estimator-id-5\" type=\"checkbox\" ><label for=\"sk-estimator-id-5\" class=\"sk-toggleable__label sk-toggleable__label-arrow\">Pipeline</label><div class=\"sk-toggleable__content\"><pre>Pipeline(steps=[(&#x27;onehotencoder&#x27;,\n",
       "                 OneHotEncoder(cols=[&#x27;iso3&#x27;], use_cat_names=True)),\n",
       "                (&#x27;simpleimputer&#x27;, SimpleImputer()), (&#x27;ridge&#x27;, Ridge())])</pre></div></div></div><div class=\"sk-serial\"><div class=\"sk-item\"><div class=\"sk-estimator sk-toggleable\"><input class=\"sk-toggleable__control sk-hidden--visually\" id=\"sk-estimator-id-6\" type=\"checkbox\" ><label for=\"sk-estimator-id-6\" class=\"sk-toggleable__label sk-toggleable__label-arrow\">OneHotEncoder</label><div class=\"sk-toggleable__content\"><pre>OneHotEncoder(cols=[&#x27;iso3&#x27;], use_cat_names=True)</pre></div></div></div><div class=\"sk-item\"><div class=\"sk-estimator sk-toggleable\"><input class=\"sk-toggleable__control sk-hidden--visually\" id=\"sk-estimator-id-7\" type=\"checkbox\" ><label for=\"sk-estimator-id-7\" class=\"sk-toggleable__label sk-toggleable__label-arrow\">SimpleImputer</label><div class=\"sk-toggleable__content\"><pre>SimpleImputer()</pre></div></div></div><div class=\"sk-item\"><div class=\"sk-estimator sk-toggleable\"><input class=\"sk-toggleable__control sk-hidden--visually\" id=\"sk-estimator-id-8\" type=\"checkbox\" ><label for=\"sk-estimator-id-8\" class=\"sk-toggleable__label sk-toggleable__label-arrow\">Ridge</label><div class=\"sk-toggleable__content\"><pre>Ridge()</pre></div></div></div></div></div></div></div>"
      ],
      "text/plain": [
       "Pipeline(steps=[('onehotencoder',\n",
       "                 OneHotEncoder(cols=['iso3'], use_cat_names=True)),\n",
       "                ('simpleimputer', SimpleImputer()), ('ridge', Ridge())])"
      ]
     },
     "execution_count": 548,
     "metadata": {},
     "output_type": "execute_result"
    }
   ],
   "source": [
    "model=make_pipeline(\n",
    "    OneHotEncoder(use_cat_names=True),\n",
    "    SimpleImputer(),\n",
    "    Ridge()\n",
    ")\n",
    "model.fit(X_train,y_train)"
   ]
  },
  {
   "cell_type": "markdown",
   "id": "4d237783",
   "metadata": {},
   "source": [
    "# Evaluate"
   ]
  },
  {
   "cell_type": "markdown",
   "id": "88cc0064",
   "metadata": {},
   "source": [
    " - Calculate the training mean absolute error for your predictions as compared to the true targets in y_train."
   ]
  },
  {
   "cell_type": "code",
   "execution_count": 549,
   "id": "9bc5123b",
   "metadata": {},
   "outputs": [
    {
     "name": "stdout",
     "output_type": "stream",
     "text": [
      "Training MAE: 2047.2084702542618\n"
     ]
    }
   ],
   "source": [
    "y_pred_training=model.predict(X_train)\n",
    "print(\"Training MAE:\", mean_absolute_error(y_train,y_pred_training))"
   ]
  },
  {
   "cell_type": "markdown",
   "id": "3f71abee",
   "metadata": {},
   "source": [
    "## communicate Results"
   ]
  },
  {
   "cell_type": "code",
   "execution_count": null,
   "id": "464e7db0",
   "metadata": {},
   "outputs": [],
   "source": []
  }
 ],
 "metadata": {
  "kernelspec": {
   "display_name": "Python 3 (ipykernel)",
   "language": "python",
   "name": "python3"
  },
  "language_info": {
   "codemirror_mode": {
    "name": "ipython",
    "version": 3
   },
   "file_extension": ".py",
   "mimetype": "text/x-python",
   "name": "python",
   "nbconvert_exporter": "python",
   "pygments_lexer": "ipython3",
   "version": "3.10.9"
  }
 },
 "nbformat": 4,
 "nbformat_minor": 5
}
