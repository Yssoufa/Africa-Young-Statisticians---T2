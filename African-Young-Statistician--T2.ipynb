{
 "cells": [
  {
   "cell_type": "code",
   "execution_count": null,
   "id": "9d208088",
   "metadata": {},
   "outputs": [],
   "source": []
  },
  {
   "cell_type": "code",
   "execution_count": null,
   "id": "10b1d239",
   "metadata": {},
   "outputs": [],
   "source": []
  },
  {
   "cell_type": "code",
   "execution_count": 77,
   "id": "d0a07857",
   "metadata": {},
   "outputs": [],
   "source": [
    "import warnings\n",
    "import pandas as pd\n",
    "import matplotlib.pyplot as plt\n",
    "import seaborn as sns\n",
    "warnings.filterwarnings(\"ignore\")"
   ]
  },
  {
   "cell_type": "markdown",
   "id": "549621ea",
   "metadata": {},
   "source": [
    "# Data Preparation "
   ]
  },
  {
   "cell_type": "markdown",
   "id": "d6500764",
   "metadata": {},
   "source": [
    "### import the data "
   ]
  },
  {
   "cell_type": "markdown",
   "id": "9137a9b3",
   "metadata": {},
   "source": [
    "> We create a function called **clean** to import the data and wrangle the datas "
   ]
  },
  {
   "cell_type": "code",
   "execution_count": 84,
   "id": "8723a815",
   "metadata": {},
   "outputs": [],
   "source": [
    "def clean(path):\n",
    "    df=pd.read_csv(path)\n",
    "    #Rename the features to ease the analysis\n",
    "    \n",
    "    # Drop columns with missing value greater than 50%\n",
    "    #for column in df.columns:\n",
    "    #   if df[column].isnull().sum()>len(df)/2:\n",
    "    #       df.drop(columns=[column],inplace=True)\n",
    "    #delate features will not be included in our model\n",
    "    #df.drop(columns=[\"Time\",\"Country Name\"],inplace=True)\n",
    "    #Index countrycode\n",
    "    #df=df.set_index('countrycode')\n",
    "    return df"
   ]
  },
  {
   "cell_type": "code",
   "execution_count": 85,
   "id": "56e8208a",
   "metadata": {},
   "outputs": [],
   "source": [
    "df=clean('Data3.csv')"
   ]
  },
  {
   "cell_type": "code",
   "execution_count": 86,
   "id": "8dbd661f",
   "metadata": {},
   "outputs": [
    {
     "data": {
      "text/html": [
       "<div>\n",
       "<style scoped>\n",
       "    .dataframe tbody tr th:only-of-type {\n",
       "        vertical-align: middle;\n",
       "    }\n",
       "\n",
       "    .dataframe tbody tr th {\n",
       "        vertical-align: top;\n",
       "    }\n",
       "\n",
       "    .dataframe thead th {\n",
       "        text-align: right;\n",
       "    }\n",
       "</style>\n",
       "<table border=\"1\" class=\"dataframe\">\n",
       "  <thead>\n",
       "    <tr style=\"text-align: right;\">\n",
       "      <th></th>\n",
       "      <th>Time</th>\n",
       "      <th>Country Name</th>\n",
       "      <th>Country Code</th>\n",
       "      <th>maize</th>\n",
       "      <th>Agricultural land (% of land area) [AG.LND.AGRI.ZS]</th>\n",
       "      <th>Agricultural land (sq. km) [AG.LND.AGRI.K2]</th>\n",
       "      <th>Arable land (% of land area) [AG.LND.ARBL.ZS]</th>\n",
       "      <th>Arable land (hectares per person) [AG.LND.ARBL.HA.PC]</th>\n",
       "      <th>Population growth (annual %) [SP.POP.GROW]</th>\n",
       "      <th>Population ages 15-64, male (% of male population) [SP.POP.1564.MA.ZS]</th>\n",
       "      <th>Population ages 15-64, female (% of female population) [SP.POP.1564.FE.ZS]</th>\n",
       "      <th>Population ages 15-64 (% of total population) [SP.POP.1564.TO.ZS]</th>\n",
       "      <th>Urban population (% of total population) [SP.URB.TOTL.IN.ZS]</th>\n",
       "      <th>Employment in agriculture (% of total employment) (modeled ILO estimate) [SL.AGR.EMPL.ZS]</th>\n",
       "      <th>Employment in agriculture, female (% of female employment) (modeled ILO estimate) [SL.AGR.EMPL.FE.ZS]</th>\n",
       "    </tr>\n",
       "  </thead>\n",
       "  <tbody>\n",
       "    <tr>\n",
       "      <th>0</th>\n",
       "      <td>2021</td>\n",
       "      <td>Angola</td>\n",
       "      <td>AGO</td>\n",
       "      <td>10836.0</td>\n",
       "      <td>36.814791</td>\n",
       "      <td>458970.0</td>\n",
       "      <td>4.309778</td>\n",
       "      <td>0.155722</td>\n",
       "      <td>3.166030</td>\n",
       "      <td>51.794773</td>\n",
       "      <td>52.648165</td>\n",
       "      <td>52.226425</td>\n",
       "      <td>67.460</td>\n",
       "      <td>58.65716</td>\n",
       "      <td>65.73271</td>\n",
       "    </tr>\n",
       "    <tr>\n",
       "      <th>1</th>\n",
       "      <td>2021</td>\n",
       "      <td>Benin</td>\n",
       "      <td>BEN</td>\n",
       "      <td>12064.0</td>\n",
       "      <td>35.030153</td>\n",
       "      <td>39500.0</td>\n",
       "      <td>24.831501</td>\n",
       "      <td>0.215436</td>\n",
       "      <td>2.759705</td>\n",
       "      <td>54.189234</td>\n",
       "      <td>54.502531</td>\n",
       "      <td>54.345611</td>\n",
       "      <td>48.972</td>\n",
       "      <td>28.14955</td>\n",
       "      <td>13.07583</td>\n",
       "    </tr>\n",
       "    <tr>\n",
       "      <th>2</th>\n",
       "      <td>2021</td>\n",
       "      <td>Botswana</td>\n",
       "      <td>BWA</td>\n",
       "      <td>7980.0</td>\n",
       "      <td>45.633723</td>\n",
       "      <td>258620.0</td>\n",
       "      <td>0.458772</td>\n",
       "      <td>0.100447</td>\n",
       "      <td>1.636743</td>\n",
       "      <td>63.295558</td>\n",
       "      <td>63.684988</td>\n",
       "      <td>63.492752</td>\n",
       "      <td>71.560</td>\n",
       "      <td>23.07407</td>\n",
       "      <td>16.44704</td>\n",
       "    </tr>\n",
       "    <tr>\n",
       "      <th>3</th>\n",
       "      <td>2021</td>\n",
       "      <td>Burkina Faso</td>\n",
       "      <td>BFA</td>\n",
       "      <td>17238.0</td>\n",
       "      <td>46.564327</td>\n",
       "      <td>127400.0</td>\n",
       "      <td>22.295322</td>\n",
       "      <td>0.276010</td>\n",
       "      <td>2.650376</td>\n",
       "      <td>52.990508</td>\n",
       "      <td>53.730505</td>\n",
       "      <td>53.361834</td>\n",
       "      <td>31.240</td>\n",
       "      <td>73.26725</td>\n",
       "      <td>76.05038</td>\n",
       "    </tr>\n",
       "    <tr>\n",
       "      <th>4</th>\n",
       "      <td>2021</td>\n",
       "      <td>Burundi</td>\n",
       "      <td>BDI</td>\n",
       "      <td>15556.0</td>\n",
       "      <td>81.892523</td>\n",
       "      <td>21030.0</td>\n",
       "      <td>49.454829</td>\n",
       "      <td>0.101185</td>\n",
       "      <td>2.672478</td>\n",
       "      <td>50.990671</td>\n",
       "      <td>51.466715</td>\n",
       "      <td>51.230355</td>\n",
       "      <td>14.058</td>\n",
       "      <td>85.85030</td>\n",
       "      <td>93.65079</td>\n",
       "    </tr>\n",
       "  </tbody>\n",
       "</table>\n",
       "</div>"
      ],
      "text/plain": [
       "   Time  Country Name Country Code    maize  \\\n",
       "0  2021        Angola          AGO  10836.0   \n",
       "1  2021         Benin          BEN  12064.0   \n",
       "2  2021      Botswana          BWA   7980.0   \n",
       "3  2021  Burkina Faso          BFA  17238.0   \n",
       "4  2021       Burundi          BDI  15556.0   \n",
       "\n",
       "   Agricultural land (% of land area) [AG.LND.AGRI.ZS]  \\\n",
       "0                                          36.814791     \n",
       "1                                          35.030153     \n",
       "2                                          45.633723     \n",
       "3                                          46.564327     \n",
       "4                                          81.892523     \n",
       "\n",
       "   Agricultural land (sq. km) [AG.LND.AGRI.K2]  \\\n",
       "0                                     458970.0   \n",
       "1                                      39500.0   \n",
       "2                                     258620.0   \n",
       "3                                     127400.0   \n",
       "4                                      21030.0   \n",
       "\n",
       "   Arable land (% of land area) [AG.LND.ARBL.ZS]  \\\n",
       "0                                       4.309778   \n",
       "1                                      24.831501   \n",
       "2                                       0.458772   \n",
       "3                                      22.295322   \n",
       "4                                      49.454829   \n",
       "\n",
       "   Arable land (hectares per person) [AG.LND.ARBL.HA.PC]  \\\n",
       "0                                           0.155722       \n",
       "1                                           0.215436       \n",
       "2                                           0.100447       \n",
       "3                                           0.276010       \n",
       "4                                           0.101185       \n",
       "\n",
       "   Population growth (annual %) [SP.POP.GROW]  \\\n",
       "0                                    3.166030   \n",
       "1                                    2.759705   \n",
       "2                                    1.636743   \n",
       "3                                    2.650376   \n",
       "4                                    2.672478   \n",
       "\n",
       "   Population ages 15-64, male (% of male population) [SP.POP.1564.MA.ZS]  \\\n",
       "0                                          51.794773                        \n",
       "1                                          54.189234                        \n",
       "2                                          63.295558                        \n",
       "3                                          52.990508                        \n",
       "4                                          50.990671                        \n",
       "\n",
       "   Population ages 15-64, female (% of female population) [SP.POP.1564.FE.ZS]  \\\n",
       "0                                          52.648165                            \n",
       "1                                          54.502531                            \n",
       "2                                          63.684988                            \n",
       "3                                          53.730505                            \n",
       "4                                          51.466715                            \n",
       "\n",
       "   Population ages 15-64 (% of total population) [SP.POP.1564.TO.ZS]  \\\n",
       "0                                          52.226425                   \n",
       "1                                          54.345611                   \n",
       "2                                          63.492752                   \n",
       "3                                          53.361834                   \n",
       "4                                          51.230355                   \n",
       "\n",
       "   Urban population (% of total population) [SP.URB.TOTL.IN.ZS]  \\\n",
       "0                                             67.460              \n",
       "1                                             48.972              \n",
       "2                                             71.560              \n",
       "3                                             31.240              \n",
       "4                                             14.058              \n",
       "\n",
       "   Employment in agriculture (% of total employment) (modeled ILO estimate) [SL.AGR.EMPL.ZS]  \\\n",
       "0                                           58.65716                                           \n",
       "1                                           28.14955                                           \n",
       "2                                           23.07407                                           \n",
       "3                                           73.26725                                           \n",
       "4                                           85.85030                                           \n",
       "\n",
       "   Employment in agriculture, female (% of female employment) (modeled ILO estimate) [SL.AGR.EMPL.FE.ZS]  \n",
       "0                                           65.73271                                                      \n",
       "1                                           13.07583                                                      \n",
       "2                                           16.44704                                                      \n",
       "3                                           76.05038                                                      \n",
       "4                                           93.65079                                                      "
      ]
     },
     "execution_count": 86,
     "metadata": {},
     "output_type": "execute_result"
    }
   ],
   "source": [
    "df.head()"
   ]
  },
  {
   "cell_type": "code",
   "execution_count": 89,
   "id": "d52224d8",
   "metadata": {},
   "outputs": [
    {
     "data": {
      "text/plain": [
       "Index(['Time', 'Country Name', 'Country Code', 'maize',\n",
       "       'Agricultural land (% of land area) [AG.LND.AGRI.ZS]',\n",
       "       'Agricultural land (sq. km) [AG.LND.AGRI.K2]',\n",
       "       'Arable land (% of land area) [AG.LND.ARBL.ZS]',\n",
       "       'Arable land (hectares per person) [AG.LND.ARBL.HA.PC]',\n",
       "       'Population growth (annual %) [SP.POP.GROW]',\n",
       "       'Population ages 15-64, male (% of male population) [SP.POP.1564.MA.ZS]',\n",
       "       'Population ages 15-64, female (% of female population) [SP.POP.1564.FE.ZS]',\n",
       "       'Population ages 15-64 (% of total population) [SP.POP.1564.TO.ZS]',\n",
       "       'Urban population (% of total population) [SP.URB.TOTL.IN.ZS]',\n",
       "       'Employment in agriculture (% of total employment) (modeled ILO estimate) [SL.AGR.EMPL.ZS]',\n",
       "       'Employment in agriculture, female (% of female employment) (modeled ILO estimate) [SL.AGR.EMPL.FE.ZS]'],\n",
       "      dtype='object')"
      ]
     },
     "execution_count": 89,
     "metadata": {},
     "output_type": "execute_result"
    }
   ],
   "source": [
    "df.columns"
   ]
  },
  {
   "cell_type": "code",
   "execution_count": 70,
   "id": "37011793",
   "metadata": {},
   "outputs": [
    {
     "data": {
      "text/plain": [
       "Index(['maize', 'feat1', 'feat2', 'feat3', 'feat4', 'feat5', 'feat6', 'feat7',\n",
       "       'feat8', 'feat9', 'feat10', 'feat11'],\n",
       "      dtype='object')"
      ]
     },
     "execution_count": 70,
     "metadata": {},
     "output_type": "execute_result"
    }
   ],
   "source": [
    "df.columns"
   ]
  },
  {
   "cell_type": "code",
   "execution_count": 43,
   "id": "3f96a7db",
   "metadata": {},
   "outputs": [
    {
     "data": {
      "text/plain": [
       "count       43\n",
       "mean     16842\n",
       "std      13538\n",
       "min        163\n",
       "25%       8354\n",
       "50%      15216\n",
       "75%      20222\n",
       "max      86406\n",
       "Name: maize, dtype: object"
      ]
     },
     "execution_count": 43,
     "metadata": {},
     "output_type": "execute_result"
    }
   ],
   "source": [
    "#describe Maize\n",
    "df['maize'].describe().apply(\"{0:.0f}\".format)"
   ]
  },
  {
   "cell_type": "code",
   "execution_count": null,
   "id": "3a398ff8",
   "metadata": {},
   "outputs": [],
   "source": []
  },
  {
   "cell_type": "code",
   "execution_count": 42,
   "id": "93bbe455",
   "metadata": {},
   "outputs": [],
   "source": [
    "df=df.rename(columns={['Country Name':\"countryname\", 'Country Code':\"iso3\",\n",
    "       'Agricultural land (% of land area) [AG.LND.AGRI.ZS]':\"feat1\",\n",
    "       'Agricultural land (sq. km) [AG.LND.AGRI.K2]',\n",
    "       'Arable land (% of land area) [AG.LND.ARBL.ZS]',\n",
    "       'Arable land (hectares per person) [AG.LND.ARBL.HA.PC]',\n",
    "       'Population growth (annual %) [SP.POP.GROW]',\n",
    "       'Population ages 15-64, male (% of male population) [SP.POP.1564.MA.ZS]',\n",
    "       'Population ages 15-64, female (% of female population) [SP.POP.1564.FE.ZS]',\n",
    "       'Population ages 15-64 (% of total population) [SP.POP.1564.TO.ZS]',\n",
    "       'Urban population (% of total population) [SP.URB.TOTL.IN.ZS]',\n",
    "       'Employment in agriculture (% of total employment) (modeled ILO estimate) [SL.AGR.EMPL.ZS]',\n",
    "       'Employment in agriculture, female (% of female employment) (modeled ILO estimate) [SL.AGR.EMPL.FE.ZS]']}) "
   ]
  },
  {
   "cell_type": "code",
   "execution_count": 71,
   "id": "a31d6bfe",
   "metadata": {},
   "outputs": [
    {
     "name": "stdout",
     "output_type": "stream",
     "text": [
      "<class 'pandas.core.frame.DataFrame'>\n",
      "Index: 49 entries, AGO to SOM\n",
      "Data columns (total 12 columns):\n",
      " #   Column  Non-Null Count  Dtype  \n",
      "---  ------  --------------  -----  \n",
      " 0   maize   43 non-null     float64\n",
      " 1   feat1   49 non-null     int64  \n",
      " 2   feat2   49 non-null     int64  \n",
      " 3   feat3   49 non-null     int64  \n",
      " 4   feat4   49 non-null     int64  \n",
      " 5   feat5   49 non-null     int64  \n",
      " 6   feat6   49 non-null     int64  \n",
      " 7   feat7   49 non-null     int64  \n",
      " 8   feat8   49 non-null     int64  \n",
      " 9   feat9   49 non-null     int64  \n",
      " 10  feat10  48 non-null     float64\n",
      " 11  feat11  48 non-null     float64\n",
      "dtypes: float64(3), int64(9)\n",
      "memory usage: 5.0+ KB\n"
     ]
    }
   ],
   "source": [
    "df.info()"
   ]
  },
  {
   "cell_type": "code",
   "execution_count": 72,
   "id": "42a0c6f3",
   "metadata": {},
   "outputs": [
    {
     "data": {
      "text/plain": [
       "Series([], dtype: float64)"
      ]
     },
     "execution_count": 72,
     "metadata": {},
     "output_type": "execute_result"
    }
   ],
   "source": [
    "df.select_dtypes('object').nunique()"
   ]
  },
  {
   "cell_type": "code",
   "execution_count": null,
   "id": "c4f6e5bf",
   "metadata": {},
   "outputs": [],
   "source": []
  },
  {
   "cell_type": "code",
   "execution_count": null,
   "id": "833ac632",
   "metadata": {},
   "outputs": [],
   "source": []
  }
 ],
 "metadata": {
  "kernelspec": {
   "display_name": "Python 3 (ipykernel)",
   "language": "python",
   "name": "python3"
  },
  "language_info": {
   "codemirror_mode": {
    "name": "ipython",
    "version": 3
   },
   "file_extension": ".py",
   "mimetype": "text/x-python",
   "name": "python",
   "nbconvert_exporter": "python",
   "pygments_lexer": "ipython3",
   "version": "3.10.9"
  }
 },
 "nbformat": 4,
 "nbformat_minor": 5
}
